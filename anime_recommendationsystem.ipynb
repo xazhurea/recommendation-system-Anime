{
  "metadata": {
    "kernelspec": {
      "name": "python3",
      "display_name": "Python 3",
      "language": "python"
    },
    "language_info": {
      "name": "python",
      "version": "3.11.11",
      "mimetype": "text/x-python",
      "codemirror_mode": {
        "name": "ipython",
        "version": 3
      },
      "pygments_lexer": "ipython3",
      "nbconvert_exporter": "python",
      "file_extension": ".py"
    },
    "colab": {
      "provenance": [],
      "gpuType": "T4",
      "name": "anime-recommendationsystem"
    },
    "accelerator": "GPU",
    "kaggle": {
      "accelerator": "gpu",
      "dataSources": [
        {
          "sourceType": "datasetVersion",
          "sourceId": 1094,
          "datasetId": 571,
          "databundleVersionId": 1094,
          "isSourceIdPinned": false
        }
      ],
      "dockerImageVersionId": 31041,
      "isInternetEnabled": true,
      "language": "python",
      "sourceType": "notebook",
      "isGpuEnabled": true
    }
  },
  "nbformat_minor": 0,
  "nbformat": 4,
  "cells": [
    {
      "cell_type": "markdown",
      "source": [
        "# **Recommendation System: Anime**"
      ],
      "metadata": {
        "id": "ZREiczeWZJS_"
      }
    },
    {
      "cell_type": "code",
      "source": [
        "import pandas as pd\n",
        "import numpy as np\n",
        "import matplotlib.pyplot as plt\n",
        "import math\n",
        "import seaborn as sns\n",
        "sns.set(style='darkgrid',font_scale=1.5)\n",
        "import plotly.express as px\n",
        "import plotly.graph_objects as go\n",
        "from plotly.subplots import make_subplots\n",
        "from collections import Counter\n",
        "\n",
        "#Data Preparation\n",
        "from sklearn.preprocessing import LabelEncoder\n",
        "from sklearn.preprocessing import StandardScaler\n",
        "from sklearn.model_selection import train_test_split\n",
        "\n",
        "# Modeling eval\n",
        "from sklearn.feature_extraction.text import TfidfVectorizer\n",
        "from sklearn.metrics.pairwise import cosine_similarity\n",
        "\n",
        "\n",
        "import warnings\n",
        "warnings.filterwarnings('ignore')"
      ],
      "metadata": {
        "id": "5eF2J2NhmVy4",
        "trusted": true,
        "execution": {
          "iopub.status.busy": "2025-06-13T03:04:52.477287Z",
          "iopub.execute_input": "2025-06-13T03:04:52.477615Z",
          "iopub.status.idle": "2025-06-13T03:04:52.483368Z",
          "shell.execute_reply.started": "2025-06-13T03:04:52.477584Z",
          "shell.execute_reply": "2025-06-13T03:04:52.482593Z"
        }
      },
      "outputs": [],
      "execution_count": null
    },
    {
      "cell_type": "markdown",
      "source": [
        "# Data Loading"
      ],
      "metadata": {
        "id": "xj97DNGNnvnB"
      }
    },
    {
      "cell_type": "code",
      "source": [
        "import kagglehub\n",
        "\n",
        "# Download latest version\n",
        "path = kagglehub.dataset_download(\"CooperUnion/anime-recommendations-database\")\n",
        "\n",
        "print(\"Path to dataset files:\", path)"
      ],
      "metadata": {
        "colab": {
          "base_uri": "https://localhost:8080/"
        },
        "id": "46h_rkMcmyc-",
        "outputId": "7a7460b6-f6d3-4387-803b-f32d3180e206",
        "trusted": true,
        "execution": {
          "iopub.status.busy": "2025-06-13T03:04:52.493364Z",
          "iopub.execute_input": "2025-06-13T03:04:52.493562Z",
          "iopub.status.idle": "2025-06-13T03:04:52.651058Z",
          "shell.execute_reply.started": "2025-06-13T03:04:52.493546Z",
          "shell.execute_reply": "2025-06-13T03:04:52.65046Z"
        }
      },
      "outputs": [
        {
          "name": "stdout",
          "text": "Path to dataset files: /kaggle/input/anime-recommendations-database\n",
          "output_type": "stream"
        }
      ],
      "execution_count": null
    },
    {
      "cell_type": "code",
      "source": [
        "# loding data\n",
        "anime = pd.read_csv(path + '/anime.csv')\n",
        "rating = pd.read_csv(path + '/rating.csv')"
      ],
      "metadata": {
        "id": "y4wQ0SDTm1dn",
        "trusted": true,
        "execution": {
          "iopub.status.busy": "2025-06-13T03:04:52.651958Z",
          "iopub.execute_input": "2025-06-13T03:04:52.652193Z",
          "iopub.status.idle": "2025-06-13T03:04:54.124404Z",
          "shell.execute_reply.started": "2025-06-13T03:04:52.652176Z",
          "shell.execute_reply": "2025-06-13T03:04:54.123876Z"
        }
      },
      "outputs": [],
      "execution_count": null
    },
    {
      "cell_type": "markdown",
      "source": [
        "# Data Understanding\n"
      ],
      "metadata": {
        "id": "j2_rdkgNniKe"
      }
    },
    {
      "cell_type": "code",
      "source": [
        "# Membaca 5 baris data anime\n",
        "anime.head()"
      ],
      "metadata": {
        "colab": {
          "base_uri": "https://localhost:8080/",
          "height": 206
        },
        "id": "BOT-KjPwp-TM",
        "outputId": "9827ead8-6244-43f4-f8f4-6ab0aff53797",
        "trusted": true,
        "execution": {
          "iopub.status.busy": "2025-06-13T03:04:54.125071Z",
          "iopub.execute_input": "2025-06-13T03:04:54.125268Z",
          "iopub.status.idle": "2025-06-13T03:04:54.133735Z",
          "shell.execute_reply.started": "2025-06-13T03:04:54.125253Z",
          "shell.execute_reply": "2025-06-13T03:04:54.133197Z"
        }
      },
      "outputs": [
        {
          "execution_count": 154,
          "output_type": "execute_result",
          "data": {
            "text/plain": "   anime_id                              name  \\\n0     32281                    Kimi no Na wa.   \n1      5114  Fullmetal Alchemist: Brotherhood   \n2     28977                          Gintama°   \n3      9253                       Steins;Gate   \n4      9969                     Gintama&#039;   \n\n                                               genre   type episodes  rating  \\\n0               Drama, Romance, School, Supernatural  Movie        1    9.37   \n1  Action, Adventure, Drama, Fantasy, Magic, Mili...     TV       64    9.26   \n2  Action, Comedy, Historical, Parody, Samurai, S...     TV       51    9.25   \n3                                   Sci-Fi, Thriller     TV       24    9.17   \n4  Action, Comedy, Historical, Parody, Samurai, S...     TV       51    9.16   \n\n   members  \n0   200630  \n1   793665  \n2   114262  \n3   673572  \n4   151266  ",
            "text/html": "<div>\n<style scoped>\n    .dataframe tbody tr th:only-of-type {\n        vertical-align: middle;\n    }\n\n    .dataframe tbody tr th {\n        vertical-align: top;\n    }\n\n    .dataframe thead th {\n        text-align: right;\n    }\n</style>\n<table border=\"1\" class=\"dataframe\">\n  <thead>\n    <tr style=\"text-align: right;\">\n      <th></th>\n      <th>anime_id</th>\n      <th>name</th>\n      <th>genre</th>\n      <th>type</th>\n      <th>episodes</th>\n      <th>rating</th>\n      <th>members</th>\n    </tr>\n  </thead>\n  <tbody>\n    <tr>\n      <th>0</th>\n      <td>32281</td>\n      <td>Kimi no Na wa.</td>\n      <td>Drama, Romance, School, Supernatural</td>\n      <td>Movie</td>\n      <td>1</td>\n      <td>9.37</td>\n      <td>200630</td>\n    </tr>\n    <tr>\n      <th>1</th>\n      <td>5114</td>\n      <td>Fullmetal Alchemist: Brotherhood</td>\n      <td>Action, Adventure, Drama, Fantasy, Magic, Mili...</td>\n      <td>TV</td>\n      <td>64</td>\n      <td>9.26</td>\n      <td>793665</td>\n    </tr>\n    <tr>\n      <th>2</th>\n      <td>28977</td>\n      <td>Gintama°</td>\n      <td>Action, Comedy, Historical, Parody, Samurai, S...</td>\n      <td>TV</td>\n      <td>51</td>\n      <td>9.25</td>\n      <td>114262</td>\n    </tr>\n    <tr>\n      <th>3</th>\n      <td>9253</td>\n      <td>Steins;Gate</td>\n      <td>Sci-Fi, Thriller</td>\n      <td>TV</td>\n      <td>24</td>\n      <td>9.17</td>\n      <td>673572</td>\n    </tr>\n    <tr>\n      <th>4</th>\n      <td>9969</td>\n      <td>Gintama&amp;#039;</td>\n      <td>Action, Comedy, Historical, Parody, Samurai, S...</td>\n      <td>TV</td>\n      <td>51</td>\n      <td>9.16</td>\n      <td>151266</td>\n    </tr>\n  </tbody>\n</table>\n</div>"
          },
          "metadata": {}
        }
      ],
      "execution_count": null
    },
    {
      "cell_type": "code",
      "source": [
        "# Membaca 5 baris data rating pengguna\n",
        "rating.head()"
      ],
      "metadata": {
        "colab": {
          "base_uri": "https://localhost:8080/",
          "height": 206
        },
        "id": "ehbx4KqunisA",
        "outputId": "c4289441-4625-4114-ae8d-62c4157746ad",
        "trusted": true,
        "execution": {
          "iopub.status.busy": "2025-06-13T03:04:54.135077Z",
          "iopub.execute_input": "2025-06-13T03:04:54.135268Z",
          "iopub.status.idle": "2025-06-13T03:04:54.150979Z",
          "shell.execute_reply.started": "2025-06-13T03:04:54.135246Z",
          "shell.execute_reply": "2025-06-13T03:04:54.150281Z"
        }
      },
      "outputs": [
        {
          "execution_count": 155,
          "output_type": "execute_result",
          "data": {
            "text/plain": "   user_id  anime_id  rating\n0        1        20      -1\n1        1        24      -1\n2        1        79      -1\n3        1       226      -1\n4        1       241      -1",
            "text/html": "<div>\n<style scoped>\n    .dataframe tbody tr th:only-of-type {\n        vertical-align: middle;\n    }\n\n    .dataframe tbody tr th {\n        vertical-align: top;\n    }\n\n    .dataframe thead th {\n        text-align: right;\n    }\n</style>\n<table border=\"1\" class=\"dataframe\">\n  <thead>\n    <tr style=\"text-align: right;\">\n      <th></th>\n      <th>user_id</th>\n      <th>anime_id</th>\n      <th>rating</th>\n    </tr>\n  </thead>\n  <tbody>\n    <tr>\n      <th>0</th>\n      <td>1</td>\n      <td>20</td>\n      <td>-1</td>\n    </tr>\n    <tr>\n      <th>1</th>\n      <td>1</td>\n      <td>24</td>\n      <td>-1</td>\n    </tr>\n    <tr>\n      <th>2</th>\n      <td>1</td>\n      <td>79</td>\n      <td>-1</td>\n    </tr>\n    <tr>\n      <th>3</th>\n      <td>1</td>\n      <td>226</td>\n      <td>-1</td>\n    </tr>\n    <tr>\n      <th>4</th>\n      <td>1</td>\n      <td>241</td>\n      <td>-1</td>\n    </tr>\n  </tbody>\n</table>\n</div>"
          },
          "metadata": {}
        }
      ],
      "execution_count": null
    },
    {
      "cell_type": "code",
      "source": [
        "print(\"Jumlah data judul anime:\", len(anime.anime_id.unique()))\n",
        "print(\"Jumlah data pengguna rating:\", len(rating.user_id.unique()))"
      ],
      "metadata": {
        "colab": {
          "base_uri": "https://localhost:8080/"
        },
        "id": "FQUlhc8zoy6z",
        "outputId": "e742aa58-91b1-4273-ca82-9f702267beda",
        "trusted": true,
        "execution": {
          "iopub.status.busy": "2025-06-13T03:04:54.151581Z",
          "iopub.execute_input": "2025-06-13T03:04:54.151755Z",
          "iopub.status.idle": "2025-06-13T03:04:54.209574Z",
          "shell.execute_reply.started": "2025-06-13T03:04:54.151741Z",
          "shell.execute_reply": "2025-06-13T03:04:54.208902Z"
        }
      },
      "outputs": [
        {
          "name": "stdout",
          "text": "Jumlah data judul anime: 12294\nJumlah data pengguna rating: 73515\n",
          "output_type": "stream"
        }
      ],
      "execution_count": null
    },
    {
      "cell_type": "markdown",
      "source": [
        "#Univariate Exploratory Data Analysis"
      ],
      "metadata": {
        "id": "A9ZenYj1n2Je"
      }
    },
    {
      "cell_type": "code",
      "source": [
        "anime.info()"
      ],
      "metadata": {
        "colab": {
          "base_uri": "https://localhost:8080/"
        },
        "id": "WImQYrxXpKmO",
        "outputId": "4cb2f0a5-008f-478c-ef43-c29ed7df6c06",
        "trusted": true,
        "execution": {
          "iopub.status.busy": "2025-06-13T03:04:54.210297Z",
          "iopub.execute_input": "2025-06-13T03:04:54.210487Z",
          "iopub.status.idle": "2025-06-13T03:04:54.220995Z",
          "shell.execute_reply.started": "2025-06-13T03:04:54.210465Z",
          "shell.execute_reply": "2025-06-13T03:04:54.220453Z"
        }
      },
      "outputs": [
        {
          "name": "stdout",
          "text": "<class 'pandas.core.frame.DataFrame'>\nRangeIndex: 12294 entries, 0 to 12293\nData columns (total 7 columns):\n #   Column    Non-Null Count  Dtype  \n---  ------    --------------  -----  \n 0   anime_id  12294 non-null  int64  \n 1   name      12294 non-null  object \n 2   genre     12232 non-null  object \n 3   type      12269 non-null  object \n 4   episodes  12294 non-null  object \n 5   rating    12064 non-null  float64\n 6   members   12294 non-null  int64  \ndtypes: float64(1), int64(2), object(4)\nmemory usage: 672.5+ KB\n",
          "output_type": "stream"
        }
      ],
      "execution_count": null
    },
    {
      "cell_type": "code",
      "source": [
        "rating.info()"
      ],
      "metadata": {
        "colab": {
          "base_uri": "https://localhost:8080/"
        },
        "id": "BAi6CyR_qAgh",
        "outputId": "b3713f2a-f2d3-4223-a08c-78e93c508eb4",
        "trusted": true,
        "execution": {
          "iopub.status.busy": "2025-06-13T03:04:54.221625Z",
          "iopub.execute_input": "2025-06-13T03:04:54.221878Z",
          "iopub.status.idle": "2025-06-13T03:04:54.237902Z",
          "shell.execute_reply.started": "2025-06-13T03:04:54.221864Z",
          "shell.execute_reply": "2025-06-13T03:04:54.237196Z"
        }
      },
      "outputs": [
        {
          "name": "stdout",
          "text": "<class 'pandas.core.frame.DataFrame'>\nRangeIndex: 7813737 entries, 0 to 7813736\nData columns (total 3 columns):\n #   Column    Dtype\n---  ------    -----\n 0   user_id   int64\n 1   anime_id  int64\n 2   rating    int64\ndtypes: int64(3)\nmemory usage: 178.8 MB\n",
          "output_type": "stream"
        }
      ],
      "execution_count": null
    },
    {
      "cell_type": "code",
      "source": [
        "print('\\nJudul anime: ', anime.name.unique())\n",
        "print('\\nGenre anime: ', anime.genre.unique())\n",
        "print('\\nType anime: ', anime.type.unique())\n",
        "print('\\nEpisode anime: ', anime.episodes.unique())\n",
        "print('\\nRating anime: ', anime.rating.unique())\n",
        "print('\\nMembers anime: ', anime.members.unique())"
      ],
      "metadata": {
        "colab": {
          "base_uri": "https://localhost:8080/"
        },
        "id": "AZqZDrnZqHlV",
        "outputId": "0e2a1099-a9a9-49f8-de93-be089ebb57fb",
        "trusted": true,
        "execution": {
          "iopub.status.busy": "2025-06-13T03:04:54.238611Z",
          "iopub.execute_input": "2025-06-13T03:04:54.238816Z",
          "iopub.status.idle": "2025-06-13T03:04:54.259498Z",
          "shell.execute_reply.started": "2025-06-13T03:04:54.238793Z",
          "shell.execute_reply": "2025-06-13T03:04:54.258822Z"
        }
      },
      "outputs": [
        {
          "name": "stdout",
          "text": "\nJudul anime:  ['Kimi no Na wa.' 'Fullmetal Alchemist: Brotherhood' 'Gintama°' ...\n 'Violence Gekiga David no Hoshi'\n 'Violence Gekiga Shin David no Hoshi: Inma Densetsu'\n 'Yasuji no Pornorama: Yacchimae!!']\n\nGenre anime:  ['Drama, Romance, School, Supernatural'\n 'Action, Adventure, Drama, Fantasy, Magic, Military, Shounen'\n 'Action, Comedy, Historical, Parody, Samurai, Sci-Fi, Shounen' ...\n 'Hentai, Sports' 'Drama, Romance, School, Yuri' 'Hentai, Slice of Life']\n\nType anime:  ['Movie' 'TV' 'OVA' 'Special' 'Music' 'ONA' nan]\n\nEpisode anime:  ['1' '64' '51' '24' '10' '148' '110' '13' '201' '25' '22' '75' '4' '26'\n '12' '27' '43' '74' '37' '2' '11' '99' 'Unknown' '39' '101' '47' '50'\n '62' '33' '112' '23' '3' '94' '6' '8' '14' '7' '40' '15' '203' '77' '291'\n '120' '102' '96' '38' '79' '175' '103' '70' '153' '45' '5' '21' '63' '52'\n '28' '145' '36' '69' '60' '178' '114' '35' '61' '34' '109' '20' '9' '49'\n '366' '97' '48' '78' '358' '155' '104' '113' '54' '167' '161' '42' '142'\n '31' '373' '220' '46' '195' '17' '1787' '73' '147' '127' '16' '19' '98'\n '150' '76' '53' '124' '29' '115' '224' '44' '58' '93' '154' '92' '67'\n '172' '86' '30' '276' '59' '72' '330' '41' '105' '128' '137' '56' '55'\n '65' '243' '193' '18' '191' '180' '91' '192' '66' '182' '32' '164' '100'\n '296' '694' '95' '68' '117' '151' '130' '87' '170' '119' '84' '108' '156'\n '140' '331' '305' '300' '510' '200' '88' '1471' '526' '143' '726' '136'\n '1818' '237' '1428' '365' '163' '283' '71' '260' '199' '225' '312' '240'\n '1306' '1565' '773' '1274' '90' '475' '263' '83' '85' '1006' '80' '162'\n '132' '141' '125']\n\nRating anime:  [ 9.37  9.26  9.25  9.17  9.16  9.15  9.13  9.11  9.1   9.06  9.05  9.04\n  8.98  8.93  8.92  8.88  8.84  8.83  8.82  8.81  8.8   8.78  8.77  8.76\n  8.75  8.74  8.73  8.72  8.71  8.69  8.68  8.67  8.66  8.65  8.64  8.62\n  8.61  8.6   8.59  8.58  8.57  8.56  8.55  8.54  8.53  8.52  8.51  8.5\n  8.49  8.48  8.47  8.46  8.45  8.44  8.43  8.42  8.41  8.4   8.39  8.38\n  8.37  8.36  8.35  8.34  8.33  8.32  8.31  8.3   8.29  8.28  8.27  8.26\n  8.25  8.24  8.23  8.22  8.21  8.2   8.19  8.18  8.17  8.16  8.15  8.14\n  8.13  8.12  8.11  8.1   8.09  8.08  8.07  8.06  8.05  8.04  8.03  8.02\n  8.01  8.    7.99  7.98  7.97  7.96  7.95  7.94  7.93  7.92  7.91  7.9\n  7.89  7.88  7.87  7.86  7.85  7.84  7.83  7.82  7.81  7.8   7.79  7.78\n  7.77  7.76  7.75  7.74  7.73  7.72  7.71  7.7   7.69  7.68  7.67  7.66\n  7.65  7.64  7.63  7.62  7.61  7.6   7.59  7.58  7.57  7.56  7.55  7.54\n  7.53  7.52  7.51  7.5   7.49  7.48  7.47  7.46  7.45  7.44  7.43  7.42\n  7.41  7.4   7.39  7.38  7.37  7.36  7.35  7.34  7.33  7.32  7.31  7.3\n  7.29  7.28  7.27  7.25  7.26  7.24  7.23  7.22  7.21  7.2   7.19  7.18\n  7.17  7.16  7.14  7.15  7.13  7.12  7.11  7.1   7.09  7.08  7.07  7.06\n  7.05  7.04  7.03  7.02  7.01  7.    6.99  6.98  6.97  6.96  6.95  6.94\n  6.93  6.92  6.91  6.9   6.89  6.88  6.87  6.86  6.85  6.84  6.83  6.82\n  6.81  6.8   6.79  6.78  6.75  6.77  6.76  6.74  6.73  6.72  6.71  6.7\n  6.69  6.68  6.67  6.66  6.65  6.64  6.63  6.62  6.61  6.6   6.59  6.58\n  6.57  6.56  6.55  6.54  6.53  6.52  6.51  6.47  6.5   6.49  6.48  6.46\n  6.45  6.42  6.44  6.43  6.39  6.41  6.4   6.38  6.37  6.35  6.36  6.34\n  6.33  6.32  6.31  6.3   6.29  6.28  6.27  6.26  6.25  6.22  6.24  6.23\n  6.21  6.2   6.19  6.18  6.17  6.16  6.15  6.14  6.13  6.12  6.1   6.11\n  6.09  6.08  6.06  6.07  6.05  6.04  6.03  6.01  6.02  6.    5.99  5.98\n  5.97  5.96  5.95  5.94  5.93  5.92  5.91  5.89  5.9   5.88  5.87  5.86\n  5.85  5.84  5.83  5.82  5.81  5.8   5.79  5.78  5.77  5.76  5.75  5.74\n  5.73  5.72  5.7   5.71  5.69  5.68  5.67  5.66  5.65  5.64  5.63  5.62\n  5.61  5.6   5.59  5.58  5.57  5.56  5.55  5.53  5.54  5.52  5.51  5.5\n  5.49  5.48  5.46  5.47  5.45  5.44  5.43  5.42  5.41  5.4   5.39  5.38\n  5.37  5.36  5.35  5.34  5.33  5.32  5.31  5.3   5.29  5.28  5.27  5.26\n  5.24  5.25  5.23  5.22  5.21  5.2   5.19  5.14  5.18  5.17  5.16  5.15\n  5.13  5.11  5.12  5.1   5.09  5.07  5.08  5.06  5.05  5.04  5.03  5.02\n  5.01  5.    4.99  4.98  4.97  4.96  4.95  4.94  4.93  4.92  4.91  4.9\n  4.89  4.88  4.84  4.87  4.86  4.85  4.83  4.82  4.81  4.8   4.79  4.78\n  4.77  4.76  4.75  4.74  4.73  4.72  4.71  4.7   4.69  4.68  4.66  4.67\n  4.65  4.64  4.63  4.62  4.6   4.59  4.58  4.57  4.56  4.55  4.54  4.53\n  4.52  4.49  4.5   4.48  4.46  4.45  4.44  4.43  4.42  4.4   4.39  4.38\n  4.36  4.35  4.34  4.32  4.31  4.3   4.28  4.27  4.26  4.25  4.24  4.23\n  4.22  4.21  4.19  4.17  4.16  4.15  4.11  4.08  4.04  4.03  4.02  4.\n  3.99  3.98  3.96  3.91  3.9   3.88  3.87  3.86  3.84  3.83  3.82  3.8\n  3.78  3.76  3.75  3.74  3.73  3.71  3.7   3.68  3.65  3.63  3.62  3.6\n  3.58  3.59  3.56  3.47  3.46  3.41  3.36  3.33  3.32  3.27  2.95  2.93\n  2.78  2.67  2.37  2.14  2.    4.06  4.18  4.09  3.67  3.    4.33  3.89\n  4.2   3.61  4.13  3.11  2.58  4.29  3.43  3.57  4.05  4.51  3.4   3.79\n  3.81  3.92  3.48  3.38  3.95  4.61  3.34  3.02  2.69  3.5   3.97  3.85\n   nan  3.77  3.53  9.33  4.14  4.12  3.2   3.93  3.52  2.55  9.    2.97\n  4.1   3.39  3.17  9.5   3.25  2.8   2.91  2.75  4.41  3.72  3.94  1.67\n  4.37  3.69  3.26  3.49  2.49  2.84  4.07  3.35  3.54  3.21  3.42  9.6\n  3.28 10.    3.51  3.29  2.72  3.64  2.98  3.44  1.92  2.86  3.14]\n\nMembers anime:  [200630 793665 114262 ...  27411  57355    652]\n",
          "output_type": "stream"
        }
      ],
      "execution_count": null
    },
    {
      "cell_type": "markdown",
      "source": [
        "Variabel-variabel pada Anime dataset adalah sebagai berikut:\n",
        "\n",
        "**Dataset anime.csv**\n",
        "- `anime_id` : ID unik untuk setiap anime di MyAnimeList\n",
        "- `name` :Nama lengkap anime\n",
        "- `genre` : Daftar genre (dipisahkan koma)\n",
        "- `type` : Jenis anime (TV, Movie, OVA, dll)\n",
        "- `episodes` : Jumlah episode\n",
        "- `rating` : Rata-rata skor rating dari pengguna\n",
        "- `members` : Jumlah anggota komunitas yang mengikuti anime ini\n",
        "\n",
        "**Dataset rating.csv**\n",
        "- `user_id` :\tID pengguna (anonim)\n",
        "- `anime_id` :\tID anime yang dirating\n",
        "- `rating` :\tNilai rating (1-10), -1 artinya ditonton tapi tidak diberi rating"
      ],
      "metadata": {
        "id": "saUOolNVfysE"
      }
    },
    {
      "cell_type": "code",
      "source": [
        "anime.describe()"
      ],
      "metadata": {
        "colab": {
          "base_uri": "https://localhost:8080/",
          "height": 300
        },
        "id": "Ko5nNLY1OVkp",
        "outputId": "a1305b13-18ce-4b03-a01f-f6c65e1d9e4a",
        "trusted": true,
        "execution": {
          "iopub.status.busy": "2025-06-13T03:04:54.260202Z",
          "iopub.execute_input": "2025-06-13T03:04:54.260436Z",
          "iopub.status.idle": "2025-06-13T03:04:54.273899Z",
          "shell.execute_reply.started": "2025-06-13T03:04:54.260416Z",
          "shell.execute_reply": "2025-06-13T03:04:54.273325Z"
        }
      },
      "outputs": [
        {
          "execution_count": 160,
          "output_type": "execute_result",
          "data": {
            "text/plain": "           anime_id        rating       members\ncount  12294.000000  12064.000000  1.229400e+04\nmean   14058.221653      6.473902  1.807134e+04\nstd    11455.294701      1.026746  5.482068e+04\nmin        1.000000      1.670000  5.000000e+00\n25%     3484.250000      5.880000  2.250000e+02\n50%    10260.500000      6.570000  1.550000e+03\n75%    24794.500000      7.180000  9.437000e+03\nmax    34527.000000     10.000000  1.013917e+06",
            "text/html": "<div>\n<style scoped>\n    .dataframe tbody tr th:only-of-type {\n        vertical-align: middle;\n    }\n\n    .dataframe tbody tr th {\n        vertical-align: top;\n    }\n\n    .dataframe thead th {\n        text-align: right;\n    }\n</style>\n<table border=\"1\" class=\"dataframe\">\n  <thead>\n    <tr style=\"text-align: right;\">\n      <th></th>\n      <th>anime_id</th>\n      <th>rating</th>\n      <th>members</th>\n    </tr>\n  </thead>\n  <tbody>\n    <tr>\n      <th>count</th>\n      <td>12294.000000</td>\n      <td>12064.000000</td>\n      <td>1.229400e+04</td>\n    </tr>\n    <tr>\n      <th>mean</th>\n      <td>14058.221653</td>\n      <td>6.473902</td>\n      <td>1.807134e+04</td>\n    </tr>\n    <tr>\n      <th>std</th>\n      <td>11455.294701</td>\n      <td>1.026746</td>\n      <td>5.482068e+04</td>\n    </tr>\n    <tr>\n      <th>min</th>\n      <td>1.000000</td>\n      <td>1.670000</td>\n      <td>5.000000e+00</td>\n    </tr>\n    <tr>\n      <th>25%</th>\n      <td>3484.250000</td>\n      <td>5.880000</td>\n      <td>2.250000e+02</td>\n    </tr>\n    <tr>\n      <th>50%</th>\n      <td>10260.500000</td>\n      <td>6.570000</td>\n      <td>1.550000e+03</td>\n    </tr>\n    <tr>\n      <th>75%</th>\n      <td>24794.500000</td>\n      <td>7.180000</td>\n      <td>9.437000e+03</td>\n    </tr>\n    <tr>\n      <th>max</th>\n      <td>34527.000000</td>\n      <td>10.000000</td>\n      <td>1.013917e+06</td>\n    </tr>\n  </tbody>\n</table>\n</div>"
          },
          "metadata": {}
        }
      ],
      "execution_count": null
    },
    {
      "cell_type": "code",
      "source": [
        "rating.describe()"
      ],
      "metadata": {
        "colab": {
          "base_uri": "https://localhost:8080/",
          "height": 300
        },
        "id": "yG7kFZbsO-ca",
        "outputId": "04450f3b-ec23-4269-966f-fef6242fdb1f",
        "trusted": true,
        "execution": {
          "iopub.status.busy": "2025-06-13T03:04:54.276524Z",
          "iopub.execute_input": "2025-06-13T03:04:54.276711Z",
          "iopub.status.idle": "2025-06-13T03:04:54.842315Z",
          "shell.execute_reply.started": "2025-06-13T03:04:54.276692Z",
          "shell.execute_reply": "2025-06-13T03:04:54.841503Z"
        }
      },
      "outputs": [
        {
          "execution_count": 161,
          "output_type": "execute_result",
          "data": {
            "text/plain": "            user_id      anime_id        rating\ncount  7.813737e+06  7.813737e+06  7.813737e+06\nmean   3.672796e+04  8.909072e+03  6.144030e+00\nstd    2.099795e+04  8.883950e+03  3.727800e+00\nmin    1.000000e+00  1.000000e+00 -1.000000e+00\n25%    1.897400e+04  1.240000e+03  6.000000e+00\n50%    3.679100e+04  6.213000e+03  7.000000e+00\n75%    5.475700e+04  1.409300e+04  9.000000e+00\nmax    7.351600e+04  3.451900e+04  1.000000e+01",
            "text/html": "<div>\n<style scoped>\n    .dataframe tbody tr th:only-of-type {\n        vertical-align: middle;\n    }\n\n    .dataframe tbody tr th {\n        vertical-align: top;\n    }\n\n    .dataframe thead th {\n        text-align: right;\n    }\n</style>\n<table border=\"1\" class=\"dataframe\">\n  <thead>\n    <tr style=\"text-align: right;\">\n      <th></th>\n      <th>user_id</th>\n      <th>anime_id</th>\n      <th>rating</th>\n    </tr>\n  </thead>\n  <tbody>\n    <tr>\n      <th>count</th>\n      <td>7.813737e+06</td>\n      <td>7.813737e+06</td>\n      <td>7.813737e+06</td>\n    </tr>\n    <tr>\n      <th>mean</th>\n      <td>3.672796e+04</td>\n      <td>8.909072e+03</td>\n      <td>6.144030e+00</td>\n    </tr>\n    <tr>\n      <th>std</th>\n      <td>2.099795e+04</td>\n      <td>8.883950e+03</td>\n      <td>3.727800e+00</td>\n    </tr>\n    <tr>\n      <th>min</th>\n      <td>1.000000e+00</td>\n      <td>1.000000e+00</td>\n      <td>-1.000000e+00</td>\n    </tr>\n    <tr>\n      <th>25%</th>\n      <td>1.897400e+04</td>\n      <td>1.240000e+03</td>\n      <td>6.000000e+00</td>\n    </tr>\n    <tr>\n      <th>50%</th>\n      <td>3.679100e+04</td>\n      <td>6.213000e+03</td>\n      <td>7.000000e+00</td>\n    </tr>\n    <tr>\n      <th>75%</th>\n      <td>5.475700e+04</td>\n      <td>1.409300e+04</td>\n      <td>9.000000e+00</td>\n    </tr>\n    <tr>\n      <th>max</th>\n      <td>7.351600e+04</td>\n      <td>3.451900e+04</td>\n      <td>1.000000e+01</td>\n    </tr>\n  </tbody>\n</table>\n</div>"
          },
          "metadata": {}
        }
      ],
      "execution_count": null
    },
    {
      "cell_type": "markdown",
      "source": [
        "**Insight:**\n",
        "- Rating tertinggi mencapai 10, dengan rata-rata sekitar 6.48.\n",
        "- Median (50%) jumlah members adalah 1.552, menandakan sebagian besar anime memiliki basis penggemar yang relatif kecil, dan hanya sebagian kecil yang sangat populer.\n",
        "- Ada nilai -1 pada kolom rating, yang umumnya menandakan bahwa user belum memberikan rating, hanya menambahkan anime ke daftar mereka\n",
        "- Rata-rata rating yang diberikan user adalah 6.14, cukup sejalan dengan rata-rata rating dari dataset anime.\n",
        "\n"
      ],
      "metadata": {
        "id": "iWkydXMHPmko"
      }
    },
    {
      "cell_type": "code",
      "source": [
        "import seaborn as sns\n",
        "import matplotlib.pyplot as plt\n",
        "\n",
        "plt.figure(figsize=(8, 5))\n",
        "sns.countplot(data=anime, x='type', order=anime['type'].value_counts().index)\n",
        "plt.title('Jumlah Anime per Tipe')\n",
        "plt.xlabel('Tipe Anime')\n",
        "plt.ylabel('Jumlah')\n",
        "plt.xticks(rotation=45)\n",
        "plt.tight_layout()\n",
        "plt.show()\n",
        "\n",
        "#versi tulisan\n",
        "\n"
      ],
      "metadata": {
        "colab": {
          "base_uri": "https://localhost:8080/",
          "height": 482
        },
        "id": "00_OxzqalMyp",
        "outputId": "fef7d4e3-2271-4fdc-8370-523189ab58ad",
        "trusted": true,
        "execution": {
          "iopub.status.busy": "2025-06-13T03:04:54.843402Z",
          "iopub.execute_input": "2025-06-13T03:04:54.843625Z",
          "iopub.status.idle": "2025-06-13T03:04:55.034676Z",
          "shell.execute_reply.started": "2025-06-13T03:04:54.843608Z",
          "shell.execute_reply": "2025-06-13T03:04:55.03389Z"
        }
      },
      "outputs": [
        {
          "output_type": "display_data",
          "data": {
            "text/plain": "<Figure size 800x500 with 1 Axes>",
            "image/png": "[encoded data removed]"
          },
          "metadata": {}
        }
      ],
      "execution_count": null
    },
    {
      "cell_type": "code",
      "source": [
        "# Genre Anime\n",
        "\n",
        "# Pisahkan dan hitung genre\n",
        "genre_series = anime['genre'].dropna().str.split('|')\n",
        "genre_counts = Counter([g for sublist in genre_series for g in sublist])\n",
        "top_genres = dict(genre_counts.most_common(10))\n",
        "\n",
        "plt.figure(figsize=(10, 6))\n",
        "sns.barplot(x=list(top_genres.values()), y=list(top_genres.keys()))\n",
        "plt.title('Top 10 Genre Anime')\n",
        "plt.xlabel('Jumlah Anime')\n",
        "plt.ylabel('Genre')\n",
        "plt.tight_layout()\n",
        "plt.show()\n"
      ],
      "metadata": {
        "colab": {
          "base_uri": "https://localhost:8080/",
          "height": 583
        },
        "id": "kS4SLLj7lPSW",
        "outputId": "388ca1c9-d83f-49de-d2ec-2c1bfd7f7383",
        "trusted": true,
        "execution": {
          "iopub.status.busy": "2025-06-13T03:04:55.035495Z",
          "iopub.execute_input": "2025-06-13T03:04:55.035845Z",
          "iopub.status.idle": "2025-06-13T03:04:55.318217Z",
          "shell.execute_reply.started": "2025-06-13T03:04:55.035815Z",
          "shell.execute_reply": "2025-06-13T03:04:55.317426Z"
        }
      },
      "outputs": [
        {
          "output_type": "display_data",
          "data": {
            "text/plain": "<Figure size 1000x600 with 1 Axes>",
            "image/png": "[encoded data removed]"
          },
          "metadata": {}
        }
      ],
      "execution_count": null
    },
    {
      "cell_type": "code",
      "source": [
        "anime_populer = anime.sort_values(by='members', ascending=False).head(10)\n",
        "anime_populer[['anime_id', 'name', 'type', 'members']]\n",
        "\n",
        "plt.figure(figsize=(10, 6))\n",
        "sns.barplot(data=anime_populer, y='name', x='members', palette='viridis')\n",
        "plt.title('Top 10 Anime Paling Populer berdasarkan Jumlah Members')\n",
        "plt.xlabel('Jumlah Members')\n",
        "plt.ylabel('Judul Anime')\n",
        "plt.tight_layout()\n",
        "plt.show()\n",
        "\n"
      ],
      "metadata": {
        "colab": {
          "base_uri": "https://localhost:8080/",
          "height": 583
        },
        "id": "tR--53jClsWV",
        "outputId": "6b82f2ad-00cf-4b66-8699-7c452b23e385",
        "trusted": true,
        "execution": {
          "iopub.status.busy": "2025-06-13T03:04:55.318863Z",
          "iopub.execute_input": "2025-06-13T03:04:55.319041Z",
          "iopub.status.idle": "2025-06-13T03:04:55.591887Z",
          "shell.execute_reply.started": "2025-06-13T03:04:55.319028Z",
          "shell.execute_reply": "2025-06-13T03:04:55.591104Z"
        }
      },
      "outputs": [
        {
          "output_type": "display_data",
          "data": {
            "text/plain": "<Figure size 1000x600 with 1 Axes>",
            "image/png": "[encoded data removed]"
          },
          "metadata": {}
        }
      ],
      "execution_count": null
    },
    {
      "cell_type": "markdown",
      "source": [
        "1. **Jumlah Anime per Tipe**\n",
        "\n",
        "  Anime TV adalah tipe anime yang paling banyak diproduksi, disusul oleh OVA dan Movie. Ini menunjukkan bahwa TV series adalah format yang paling dominan, kemungkinan karena bisa menjangkau lebih banyak penonton dan menawarkan narasi yang panjang.\n",
        "\n",
        "2. **Top 10 Genre Anime**\n",
        "  \n",
        "  Genre Hentai di posisi pertama, menunjukkan bahwa jumlah judul dalam genre ini sangat banyak. Kemudian disusul comedy, Music, dan Kids.\n",
        "\n",
        "3. **Top 10 Anime Paling Populer**\n",
        "\n",
        "  Death Note adalah anime dengan jumlah anggota (members) terbanyak. Anime populer lainnya seperti Attack on Titan (Shingeki no Kyojin), Sword Art Online, dan Fullmetal Alchemist: Brotherhood juga masuk dalam daftar, mencerminkan bahwa anime bergenre aksi, fantasi, dan psikologis memiliki daya tarik besar.\n",
        "\n",
        "\n",
        "**🔍 Kesimpulan Umum:**\n",
        "\n",
        "- TV series mendominasi produksi anime, tetapi OVA dan film juga tetap signifikan.\n",
        "- Genre dan sub-genre yang sangat bervariasi menunjukkan fleksibilitas medium anime dalam menjangkau berbagai demografik.\n",
        "- Popularitas anime tidak selalu berbanding lurus dengan jumlah genre atau tipe, melainkan dipengaruhi oleh kualitas cerita, daya tarik karakter, dan eksposur global."
      ],
      "metadata": {
        "id": "aJwIlusfGHYw"
      }
    },
    {
      "cell_type": "code",
      "source": [
        "# Jumlah anime unik di anime.csv\n",
        "print('Banyak anime di anime.csv:', len(anime.anime_id.unique()))\n",
        "\n",
        "# Jumlah anime unik di rating.csv\n",
        "print('Banyak anime di rating.csv:', len(rating.anime_id.unique()))\n",
        "\n",
        "# Jumlah members (user count per anime) dari anime.csv\n",
        "print('Banyak members di anime.csv:', len(anime.members.unique()))\n",
        "\n",
        "# Jumlah user unik di rating.csv\n",
        "print('Banyak user di rating.csv:', len(rating.user_id.unique()))\n"
      ],
      "metadata": {
        "colab": {
          "base_uri": "https://localhost:8080/"
        },
        "id": "URLO1mBnnt_N",
        "outputId": "908da923-6500-45d7-b248-9cf8e43aaa2b",
        "trusted": true,
        "execution": {
          "iopub.status.busy": "2025-06-13T03:04:55.592715Z",
          "iopub.execute_input": "2025-06-13T03:04:55.593008Z",
          "iopub.status.idle": "2025-06-13T03:04:55.684823Z",
          "shell.execute_reply.started": "2025-06-13T03:04:55.592985Z",
          "shell.execute_reply": "2025-06-13T03:04:55.684091Z"
        }
      },
      "outputs": [
        {
          "name": "stdout",
          "text": "Banyak anime di anime.csv: 12294\nBanyak anime di rating.csv: 11200\nBanyak members di anime.csv: 6706\nBanyak user di rating.csv: 73515\n",
          "output_type": "stream"
        }
      ],
      "execution_count": null
    },
    {
      "cell_type": "markdown",
      "source": [
        "Jumlah anime di anime.csv lebih banyak daripada di rating.csv:\n",
        "\n",
        "Tidak semua anime di database anime.csv memiliki rating dari user. Bisa jadi anime tersebut kurang populer atau belum dirating sama sekali oleh pengguna."
      ],
      "metadata": {
        "id": "Is1Hsv6dLDAp"
      }
    },
    {
      "cell_type": "code",
      "source": [
        "# Cek missing value\n",
        "anime.isnull().sum()"
      ],
      "metadata": {
        "colab": {
          "base_uri": "https://localhost:8080/",
          "height": 303
        },
        "id": "KhcYu4AniN-_",
        "outputId": "afcb5439-8220-43a1-e1ad-62fd7b1a9199",
        "trusted": true,
        "execution": {
          "iopub.status.busy": "2025-06-13T03:04:55.685524Z",
          "iopub.execute_input": "2025-06-13T03:04:55.685728Z",
          "iopub.status.idle": "2025-06-13T03:04:55.6944Z",
          "shell.execute_reply.started": "2025-06-13T03:04:55.685712Z",
          "shell.execute_reply": "2025-06-13T03:04:55.693742Z"
        }
      },
      "outputs": [
        {
          "execution_count": 166,
          "output_type": "execute_result",
          "data": {
            "text/plain": "anime_id      0\nname          0\ngenre        62\ntype         25\nepisodes      0\nrating      230\nmembers       0\ndtype: int64"
          },
          "metadata": {}
        }
      ],
      "execution_count": null
    },
    {
      "cell_type": "code",
      "source": [
        "rating.isnull().sum()"
      ],
      "metadata": {
        "colab": {
          "base_uri": "https://localhost:8080/",
          "height": 178
        },
        "id": "GFacpBhDiU-L",
        "outputId": "6d7bc599-4dbd-402c-ce55-81596cfa6564",
        "trusted": true,
        "execution": {
          "iopub.status.busy": "2025-06-13T03:04:55.694995Z",
          "iopub.execute_input": "2025-06-13T03:04:55.695211Z",
          "iopub.status.idle": "2025-06-13T03:04:55.733176Z",
          "shell.execute_reply.started": "2025-06-13T03:04:55.695197Z",
          "shell.execute_reply": "2025-06-13T03:04:55.732386Z"
        }
      },
      "outputs": [
        {
          "execution_count": 167,
          "output_type": "execute_result",
          "data": {
            "text/plain": "user_id     0\nanime_id    0\nrating      0\ndtype: int64"
          },
          "metadata": {}
        }
      ],
      "execution_count": null
    },
    {
      "cell_type": "markdown",
      "source": [
        "# Data Preparation"
      ],
      "metadata": {
        "id": "wBepVCtYn_Az"
      }
    },
    {
      "cell_type": "markdown",
      "source": [],
      "metadata": {
        "id": "fB8E-yBoZJTK"
      }
    },
    {
      "cell_type": "code",
      "source": [
        "#Menggabungkan dataset\n",
        "anime_rating = pd.merge(anime,rating[[\"user_id\",\"anime_id\",\"rating\"]], on = [\"anime_id\"],how = \"right\")\n",
        "anime_rating.rename(columns = {'rating_x':'AverageRating','rating_y':'rating_user'}, inplace = True)\n",
        "\n",
        "print(\"Final Dataset: \")\n",
        "anime_rating.head()"
      ],
      "metadata": {
        "colab": {
          "base_uri": "https://localhost:8080/",
          "height": 224
        },
        "id": "XES054IU5IWi",
        "outputId": "2188d686-ec70-4973-badb-71f61da35e52",
        "trusted": true,
        "execution": {
          "iopub.status.busy": "2025-06-13T03:04:55.73398Z",
          "iopub.execute_input": "2025-06-13T03:04:55.734614Z",
          "iopub.status.idle": "2025-06-13T03:04:57.441388Z",
          "shell.execute_reply.started": "2025-06-13T03:04:55.734597Z",
          "shell.execute_reply": "2025-06-13T03:04:57.440812Z"
        }
      },
      "outputs": [
        {
          "name": "stdout",
          "text": "Final Dataset: \n",
          "output_type": "stream"
        },
        {
          "execution_count": 168,
          "output_type": "execute_result",
          "data": {
            "text/plain": "   anime_id                       name  \\\n0        20                     Naruto   \n1        24              School Rumble   \n2        79                   Shuffle!   \n3       226                 Elfen Lied   \n4       241  Girls Bravo: First Season   \n\n                                               genre type episodes  \\\n0  Action, Comedy, Martial Arts, Shounen, Super P...   TV      220   \n1                   Comedy, Romance, School, Shounen   TV       26   \n2  Comedy, Drama, Ecchi, Fantasy, Harem, Magic, R...   TV       24   \n3  Action, Drama, Horror, Psychological, Romance,...   TV       13   \n4     Comedy, Ecchi, Fantasy, Harem, Romance, School   TV       11   \n\n   AverageRating   members  user_id  rating_user  \n0           7.81  683297.0        1           -1  \n1           8.06  178553.0        1           -1  \n2           7.31  158772.0        1           -1  \n3           7.85  623511.0        1           -1  \n4           6.69   84395.0        1           -1  ",
            "text/html": "<div>\n<style scoped>\n    .dataframe tbody tr th:only-of-type {\n        vertical-align: middle;\n    }\n\n    .dataframe tbody tr th {\n        vertical-align: top;\n    }\n\n    .dataframe thead th {\n        text-align: right;\n    }\n</style>\n<table border=\"1\" class=\"dataframe\">\n  <thead>\n    <tr style=\"text-align: right;\">\n      <th></th>\n      <th>anime_id</th>\n      <th>name</th>\n      <th>genre</th>\n      <th>type</th>\n      <th>episodes</th>\n      <th>AverageRating</th>\n      <th>members</th>\n      <th>user_id</th>\n      <th>rating_user</th>\n    </tr>\n  </thead>\n  <tbody>\n    <tr>\n      <th>0</th>\n      <td>20</td>\n      <td>Naruto</td>\n      <td>Action, Comedy, Martial Arts, Shounen, Super P...</td>\n      <td>TV</td>\n      <td>220</td>\n      <td>7.81</td>\n      <td>683297.0</td>\n      <td>1</td>\n      <td>-1</td>\n    </tr>\n    <tr>\n      <th>1</th>\n      <td>24</td>\n      <td>School Rumble</td>\n      <td>Comedy, Romance, School, Shounen</td>\n      <td>TV</td>\n      <td>26</td>\n      <td>8.06</td>\n      <td>178553.0</td>\n      <td>1</td>\n      <td>-1</td>\n    </tr>\n    <tr>\n      <th>2</th>\n      <td>79</td>\n      <td>Shuffle!</td>\n      <td>Comedy, Drama, Ecchi, Fantasy, Harem, Magic, R...</td>\n      <td>TV</td>\n      <td>24</td>\n      <td>7.31</td>\n      <td>158772.0</td>\n      <td>1</td>\n      <td>-1</td>\n    </tr>\n    <tr>\n      <th>3</th>\n      <td>226</td>\n      <td>Elfen Lied</td>\n      <td>Action, Drama, Horror, Psychological, Romance,...</td>\n      <td>TV</td>\n      <td>13</td>\n      <td>7.85</td>\n      <td>623511.0</td>\n      <td>1</td>\n      <td>-1</td>\n    </tr>\n    <tr>\n      <th>4</th>\n      <td>241</td>\n      <td>Girls Bravo: First Season</td>\n      <td>Comedy, Ecchi, Fantasy, Harem, Romance, School</td>\n      <td>TV</td>\n      <td>11</td>\n      <td>6.69</td>\n      <td>84395.0</td>\n      <td>1</td>\n      <td>-1</td>\n    </tr>\n  </tbody>\n</table>\n</div>"
          },
          "metadata": {}
        }
      ],
      "execution_count": null
    },
    {
      "cell_type": "code",
      "source": [
        "anime_rating.shape"
      ],
      "metadata": {
        "colab": {
          "base_uri": "https://localhost:8080/"
        },
        "id": "xt6Dys8zrujC",
        "outputId": "fa104b10-ac82-48c1-88c9-810ec7a59ede",
        "trusted": true,
        "execution": {
          "iopub.status.busy": "2025-06-13T03:04:57.442113Z",
          "iopub.execute_input": "2025-06-13T03:04:57.442428Z",
          "iopub.status.idle": "2025-06-13T03:04:57.447235Z",
          "shell.execute_reply.started": "2025-06-13T03:04:57.442411Z",
          "shell.execute_reply": "2025-06-13T03:04:57.446494Z"
        }
      },
      "outputs": [
        {
          "execution_count": 169,
          "output_type": "execute_result",
          "data": {
            "text/plain": "(7813737, 9)"
          },
          "metadata": {}
        }
      ],
      "execution_count": null
    },
    {
      "cell_type": "markdown",
      "source": [
        "Penggabungan dataset dilakukan dengan cara right join menggunakan fungsi pd.merge() pada kolom anime_id, sehingga seluruh data dari rating.csv dipertahankan dan hanya informasi anime yang cocok dari anime.csv yang digabungkan. Dataset gabungan memiliki 9 kolom, yaitu: `anime_id`, `name`, `genre`, `type`, `episodes`, `AverageRating`, `members`, `user_id`, dan `rating_user`."
      ],
      "metadata": {
        "id": "RLDuwj18N5LD"
      }
    },
    {
      "cell_type": "code",
      "source": [
        "anime_rating.isnull().sum()"
      ],
      "metadata": {
        "colab": {
          "base_uri": "https://localhost:8080/",
          "height": 366
        },
        "id": "y_XyUeWaq7YN",
        "outputId": "9fed2994-c598-4e22-de61-e407537c70eb",
        "trusted": true,
        "execution": {
          "iopub.status.busy": "2025-06-13T03:04:57.447934Z",
          "iopub.execute_input": "2025-06-13T03:04:57.448157Z",
          "iopub.status.idle": "2025-06-13T03:04:58.82234Z",
          "shell.execute_reply.started": "2025-06-13T03:04:57.448137Z",
          "shell.execute_reply": "2025-06-13T03:04:58.821731Z"
        }
      },
      "outputs": [
        {
          "execution_count": 170,
          "output_type": "execute_result",
          "data": {
            "text/plain": "anime_id           0\nname              10\ngenre            120\ntype              14\nepisodes          10\nAverageRating     16\nmembers           10\nuser_id            0\nrating_user        0\ndtype: int64"
          },
          "metadata": {}
        }
      ],
      "execution_count": null
    },
    {
      "cell_type": "code",
      "source": [
        "#Lihat data yang punya mising value\n",
        "anime_rating[anime_rating.isnull().any(axis=1)].head()"
      ],
      "metadata": {
        "colab": {
          "base_uri": "https://localhost:8080/",
          "height": 206
        },
        "id": "1N5C6mmgt0L5",
        "outputId": "c762dbf4-4c5b-448c-bc9b-6f182cb784b9",
        "trusted": true,
        "execution": {
          "iopub.status.busy": "2025-06-13T03:04:58.82299Z",
          "iopub.execute_input": "2025-06-13T03:04:58.823166Z",
          "iopub.status.idle": "2025-06-13T03:05:00.136028Z",
          "shell.execute_reply.started": "2025-06-13T03:04:58.823152Z",
          "shell.execute_reply": "2025-06-13T03:05:00.135231Z"
        }
      },
      "outputs": [
        {
          "execution_count": 171,
          "output_type": "execute_result",
          "data": {
            "text/plain": "        anime_id                                       name genre     type  \\\n111900     28647                                      Kappo   NaN    Movie   \n111901     28653                                       Maze   NaN    Movie   \n111902     28655                                  PiKA PiKA   NaN    Movie   \n111924     28987                                   Kamakura   NaN    Movie   \n203759     33242  IS: Infinite Stratos 2 - Infinite Wedding   NaN  Special   \n\n       episodes  AverageRating  members  user_id  rating_user  \n111900        1           4.71    335.0     1145           -1  \n111901        1           5.37    138.0     1145           -1  \n111902        1           4.92    289.0     1145           -1  \n111924        1           5.53    164.0     1145           -1  \n203759        1           7.15   6604.0     2050            7  ",
            "text/html": "<div>\n<style scoped>\n    .dataframe tbody tr th:only-of-type {\n        vertical-align: middle;\n    }\n\n    .dataframe tbody tr th {\n        vertical-align: top;\n    }\n\n    .dataframe thead th {\n        text-align: right;\n    }\n</style>\n<table border=\"1\" class=\"dataframe\">\n  <thead>\n    <tr style=\"text-align: right;\">\n      <th></th>\n      <th>anime_id</th>\n      <th>name</th>\n      <th>genre</th>\n      <th>type</th>\n      <th>episodes</th>\n      <th>AverageRating</th>\n      <th>members</th>\n      <th>user_id</th>\n      <th>rating_user</th>\n    </tr>\n  </thead>\n  <tbody>\n    <tr>\n      <th>111900</th>\n      <td>28647</td>\n      <td>Kappo</td>\n      <td>NaN</td>\n      <td>Movie</td>\n      <td>1</td>\n      <td>4.71</td>\n      <td>335.0</td>\n      <td>1145</td>\n      <td>-1</td>\n    </tr>\n    <tr>\n      <th>111901</th>\n      <td>28653</td>\n      <td>Maze</td>\n      <td>NaN</td>\n      <td>Movie</td>\n      <td>1</td>\n      <td>5.37</td>\n      <td>138.0</td>\n      <td>1145</td>\n      <td>-1</td>\n    </tr>\n    <tr>\n      <th>111902</th>\n      <td>28655</td>\n      <td>PiKA PiKA</td>\n      <td>NaN</td>\n      <td>Movie</td>\n      <td>1</td>\n      <td>4.92</td>\n      <td>289.0</td>\n      <td>1145</td>\n      <td>-1</td>\n    </tr>\n    <tr>\n      <th>111924</th>\n      <td>28987</td>\n      <td>Kamakura</td>\n      <td>NaN</td>\n      <td>Movie</td>\n      <td>1</td>\n      <td>5.53</td>\n      <td>164.0</td>\n      <td>1145</td>\n      <td>-1</td>\n    </tr>\n    <tr>\n      <th>203759</th>\n      <td>33242</td>\n      <td>IS: Infinite Stratos 2 - Infinite Wedding</td>\n      <td>NaN</td>\n      <td>Special</td>\n      <td>1</td>\n      <td>7.15</td>\n      <td>6604.0</td>\n      <td>2050</td>\n      <td>7</td>\n    </tr>\n  </tbody>\n</table>\n</div>"
          },
          "metadata": {}
        }
      ],
      "execution_count": null
    },
    {
      "cell_type": "code",
      "source": [
        "#Lihat missing value pada kolom type\n",
        "anime_rating[anime_rating['type'].isnull()]"
      ],
      "metadata": {
        "colab": {
          "base_uri": "https://localhost:8080/",
          "height": 488
        },
        "id": "DXD7eFTLYLEl",
        "outputId": "777f8c9c-c11f-43e1-acc6-b42fcd89fd53",
        "trusted": true,
        "execution": {
          "iopub.status.busy": "2025-06-13T03:05:00.136755Z",
          "iopub.execute_input": "2025-06-13T03:05:00.137014Z",
          "iopub.status.idle": "2025-06-13T03:05:00.454875Z",
          "shell.execute_reply.started": "2025-06-13T03:05:00.136996Z",
          "shell.execute_reply": "2025-06-13T03:05:00.454129Z"
        }
      },
      "outputs": [
        {
          "execution_count": 172,
          "output_type": "execute_result",
          "data": {
            "text/plain": "         anime_id           name             genre type episodes  \\\n1392686     30913            NaN               NaN  NaN      NaN   \n1969308     30913            NaN               NaN  NaN      NaN   \n1969309     30924            NaN               NaN  NaN      NaN   \n3411438     30484  Steins;Gate 0  Sci-Fi, Thriller  NaN  Unknown   \n3659298     30913            NaN               NaN  NaN      NaN   \n3660124     30913            NaN               NaN  NaN      NaN   \n3959155     30913            NaN               NaN  NaN      NaN   \n3961670     30484  Steins;Gate 0  Sci-Fi, Thriller  NaN  Unknown   \n4478271     30484  Steins;Gate 0  Sci-Fi, Thriller  NaN  Unknown   \n4811385     30484  Steins;Gate 0  Sci-Fi, Thriller  NaN  Unknown   \n5104517     20261            NaN               NaN  NaN      NaN   \n5483385     30913            NaN               NaN  NaN      NaN   \n6765685     30913            NaN               NaN  NaN      NaN   \n6765686     30924            NaN               NaN  NaN      NaN   \n\n         AverageRating  members  user_id  rating_user  \n1392686            NaN      NaN    13270           -1  \n1969308            NaN      NaN    19104           -1  \n1969309            NaN      NaN    19104           -1  \n3411438            NaN  60999.0    31437            9  \n3659298            NaN      NaN    34240            9  \n3660124            NaN      NaN    34248           -1  \n3959155            NaN      NaN    37442            9  \n3961670            NaN  60999.0    37475            7  \n4478271            NaN  60999.0    42372            9  \n4811385            NaN  60999.0    45904            9  \n5104517            NaN      NaN    48766           -1  \n5483385            NaN      NaN    51693           -1  \n6765685            NaN      NaN    62549           -1  \n6765686            NaN      NaN    62549           -1  ",
            "text/html": "<div>\n<style scoped>\n    .dataframe tbody tr th:only-of-type {\n        vertical-align: middle;\n    }\n\n    .dataframe tbody tr th {\n        vertical-align: top;\n    }\n\n    .dataframe thead th {\n        text-align: right;\n    }\n</style>\n<table border=\"1\" class=\"dataframe\">\n  <thead>\n    <tr style=\"text-align: right;\">\n      <th></th>\n      <th>anime_id</th>\n      <th>name</th>\n      <th>genre</th>\n      <th>type</th>\n      <th>episodes</th>\n      <th>AverageRating</th>\n      <th>members</th>\n      <th>user_id</th>\n      <th>rating_user</th>\n    </tr>\n  </thead>\n  <tbody>\n    <tr>\n      <th>1392686</th>\n      <td>30913</td>\n      <td>NaN</td>\n      <td>NaN</td>\n      <td>NaN</td>\n      <td>NaN</td>\n      <td>NaN</td>\n      <td>NaN</td>\n      <td>13270</td>\n      <td>-1</td>\n    </tr>\n    <tr>\n      <th>1969308</th>\n      <td>30913</td>\n      <td>NaN</td>\n      <td>NaN</td>\n      <td>NaN</td>\n      <td>NaN</td>\n      <td>NaN</td>\n      <td>NaN</td>\n      <td>19104</td>\n      <td>-1</td>\n    </tr>\n    <tr>\n      <th>1969309</th>\n      <td>30924</td>\n      <td>NaN</td>\n      <td>NaN</td>\n      <td>NaN</td>\n      <td>NaN</td>\n      <td>NaN</td>\n      <td>NaN</td>\n      <td>19104</td>\n      <td>-1</td>\n    </tr>\n    <tr>\n      <th>3411438</th>\n      <td>30484</td>\n      <td>Steins;Gate 0</td>\n      <td>Sci-Fi, Thriller</td>\n      <td>NaN</td>\n      <td>Unknown</td>\n      <td>NaN</td>\n      <td>60999.0</td>\n      <td>31437</td>\n      <td>9</td>\n    </tr>\n    <tr>\n      <th>3659298</th>\n      <td>30913</td>\n      <td>NaN</td>\n      <td>NaN</td>\n      <td>NaN</td>\n      <td>NaN</td>\n      <td>NaN</td>\n      <td>NaN</td>\n      <td>34240</td>\n      <td>9</td>\n    </tr>\n    <tr>\n      <th>3660124</th>\n      <td>30913</td>\n      <td>NaN</td>\n      <td>NaN</td>\n      <td>NaN</td>\n      <td>NaN</td>\n      <td>NaN</td>\n      <td>NaN</td>\n      <td>34248</td>\n      <td>-1</td>\n    </tr>\n    <tr>\n      <th>3959155</th>\n      <td>30913</td>\n      <td>NaN</td>\n      <td>NaN</td>\n      <td>NaN</td>\n      <td>NaN</td>\n      <td>NaN</td>\n      <td>NaN</td>\n      <td>37442</td>\n      <td>9</td>\n    </tr>\n    <tr>\n      <th>3961670</th>\n      <td>30484</td>\n      <td>Steins;Gate 0</td>\n      <td>Sci-Fi, Thriller</td>\n      <td>NaN</td>\n      <td>Unknown</td>\n      <td>NaN</td>\n      <td>60999.0</td>\n      <td>37475</td>\n      <td>7</td>\n    </tr>\n    <tr>\n      <th>4478271</th>\n      <td>30484</td>\n      <td>Steins;Gate 0</td>\n      <td>Sci-Fi, Thriller</td>\n      <td>NaN</td>\n      <td>Unknown</td>\n      <td>NaN</td>\n      <td>60999.0</td>\n      <td>42372</td>\n      <td>9</td>\n    </tr>\n    <tr>\n      <th>4811385</th>\n      <td>30484</td>\n      <td>Steins;Gate 0</td>\n      <td>Sci-Fi, Thriller</td>\n      <td>NaN</td>\n      <td>Unknown</td>\n      <td>NaN</td>\n      <td>60999.0</td>\n      <td>45904</td>\n      <td>9</td>\n    </tr>\n    <tr>\n      <th>5104517</th>\n      <td>20261</td>\n      <td>NaN</td>\n      <td>NaN</td>\n      <td>NaN</td>\n      <td>NaN</td>\n      <td>NaN</td>\n      <td>NaN</td>\n      <td>48766</td>\n      <td>-1</td>\n    </tr>\n    <tr>\n      <th>5483385</th>\n      <td>30913</td>\n      <td>NaN</td>\n      <td>NaN</td>\n      <td>NaN</td>\n      <td>NaN</td>\n      <td>NaN</td>\n      <td>NaN</td>\n      <td>51693</td>\n      <td>-1</td>\n    </tr>\n    <tr>\n      <th>6765685</th>\n      <td>30913</td>\n      <td>NaN</td>\n      <td>NaN</td>\n      <td>NaN</td>\n      <td>NaN</td>\n      <td>NaN</td>\n      <td>NaN</td>\n      <td>62549</td>\n      <td>-1</td>\n    </tr>\n    <tr>\n      <th>6765686</th>\n      <td>30924</td>\n      <td>NaN</td>\n      <td>NaN</td>\n      <td>NaN</td>\n      <td>NaN</td>\n      <td>NaN</td>\n      <td>NaN</td>\n      <td>62549</td>\n      <td>-1</td>\n    </tr>\n  </tbody>\n</table>\n</div>"
          },
          "metadata": {}
        }
      ],
      "execution_count": null
    },
    {
      "cell_type": "code",
      "source": [
        "#Lihat missing value pada kolom episodes, name, member\n",
        "\n",
        "anime_rating[anime_rating['episodes'].isnull() | anime_rating['name'].isnull() | anime_rating['members'].isnull()]"
      ],
      "metadata": {
        "colab": {
          "base_uri": "https://localhost:8080/",
          "height": 363
        },
        "id": "ljPoKUqgYx1t",
        "outputId": "983f0364-5585-4d2a-febd-65ca8e0581d8",
        "trusted": true,
        "execution": {
          "iopub.status.busy": "2025-06-13T03:05:00.455669Z",
          "iopub.execute_input": "2025-06-13T03:05:00.456023Z",
          "iopub.status.idle": "2025-06-13T03:05:01.115256Z",
          "shell.execute_reply.started": "2025-06-13T03:05:00.455998Z",
          "shell.execute_reply": "2025-06-13T03:05:01.114615Z"
        }
      },
      "outputs": [
        {
          "execution_count": 173,
          "output_type": "execute_result",
          "data": {
            "text/plain": "         anime_id name genre type episodes  AverageRating  members  user_id  \\\n1392686     30913  NaN   NaN  NaN      NaN            NaN      NaN    13270   \n1969308     30913  NaN   NaN  NaN      NaN            NaN      NaN    19104   \n1969309     30924  NaN   NaN  NaN      NaN            NaN      NaN    19104   \n3659298     30913  NaN   NaN  NaN      NaN            NaN      NaN    34240   \n3660124     30913  NaN   NaN  NaN      NaN            NaN      NaN    34248   \n3959155     30913  NaN   NaN  NaN      NaN            NaN      NaN    37442   \n5104517     20261  NaN   NaN  NaN      NaN            NaN      NaN    48766   \n5483385     30913  NaN   NaN  NaN      NaN            NaN      NaN    51693   \n6765685     30913  NaN   NaN  NaN      NaN            NaN      NaN    62549   \n6765686     30924  NaN   NaN  NaN      NaN            NaN      NaN    62549   \n\n         rating_user  \n1392686           -1  \n1969308           -1  \n1969309           -1  \n3659298            9  \n3660124           -1  \n3959155            9  \n5104517           -1  \n5483385           -1  \n6765685           -1  \n6765686           -1  ",
            "text/html": "<div>\n<style scoped>\n    .dataframe tbody tr th:only-of-type {\n        vertical-align: middle;\n    }\n\n    .dataframe tbody tr th {\n        vertical-align: top;\n    }\n\n    .dataframe thead th {\n        text-align: right;\n    }\n</style>\n<table border=\"1\" class=\"dataframe\">\n  <thead>\n    <tr style=\"text-align: right;\">\n      <th></th>\n      <th>anime_id</th>\n      <th>name</th>\n      <th>genre</th>\n      <th>type</th>\n      <th>episodes</th>\n      <th>AverageRating</th>\n      <th>members</th>\n      <th>user_id</th>\n      <th>rating_user</th>\n    </tr>\n  </thead>\n  <tbody>\n    <tr>\n      <th>1392686</th>\n      <td>30913</td>\n      <td>NaN</td>\n      <td>NaN</td>\n      <td>NaN</td>\n      <td>NaN</td>\n      <td>NaN</td>\n      <td>NaN</td>\n      <td>13270</td>\n      <td>-1</td>\n    </tr>\n    <tr>\n      <th>1969308</th>\n      <td>30913</td>\n      <td>NaN</td>\n      <td>NaN</td>\n      <td>NaN</td>\n      <td>NaN</td>\n      <td>NaN</td>\n      <td>NaN</td>\n      <td>19104</td>\n      <td>-1</td>\n    </tr>\n    <tr>\n      <th>1969309</th>\n      <td>30924</td>\n      <td>NaN</td>\n      <td>NaN</td>\n      <td>NaN</td>\n      <td>NaN</td>\n      <td>NaN</td>\n      <td>NaN</td>\n      <td>19104</td>\n      <td>-1</td>\n    </tr>\n    <tr>\n      <th>3659298</th>\n      <td>30913</td>\n      <td>NaN</td>\n      <td>NaN</td>\n      <td>NaN</td>\n      <td>NaN</td>\n      <td>NaN</td>\n      <td>NaN</td>\n      <td>34240</td>\n      <td>9</td>\n    </tr>\n    <tr>\n      <th>3660124</th>\n      <td>30913</td>\n      <td>NaN</td>\n      <td>NaN</td>\n      <td>NaN</td>\n      <td>NaN</td>\n      <td>NaN</td>\n      <td>NaN</td>\n      <td>34248</td>\n      <td>-1</td>\n    </tr>\n    <tr>\n      <th>3959155</th>\n      <td>30913</td>\n      <td>NaN</td>\n      <td>NaN</td>\n      <td>NaN</td>\n      <td>NaN</td>\n      <td>NaN</td>\n      <td>NaN</td>\n      <td>37442</td>\n      <td>9</td>\n    </tr>\n    <tr>\n      <th>5104517</th>\n      <td>20261</td>\n      <td>NaN</td>\n      <td>NaN</td>\n      <td>NaN</td>\n      <td>NaN</td>\n      <td>NaN</td>\n      <td>NaN</td>\n      <td>48766</td>\n      <td>-1</td>\n    </tr>\n    <tr>\n      <th>5483385</th>\n      <td>30913</td>\n      <td>NaN</td>\n      <td>NaN</td>\n      <td>NaN</td>\n      <td>NaN</td>\n      <td>NaN</td>\n      <td>NaN</td>\n      <td>51693</td>\n      <td>-1</td>\n    </tr>\n    <tr>\n      <th>6765685</th>\n      <td>30913</td>\n      <td>NaN</td>\n      <td>NaN</td>\n      <td>NaN</td>\n      <td>NaN</td>\n      <td>NaN</td>\n      <td>NaN</td>\n      <td>62549</td>\n      <td>-1</td>\n    </tr>\n    <tr>\n      <th>6765686</th>\n      <td>30924</td>\n      <td>NaN</td>\n      <td>NaN</td>\n      <td>NaN</td>\n      <td>NaN</td>\n      <td>NaN</td>\n      <td>NaN</td>\n      <td>62549</td>\n      <td>-1</td>\n    </tr>\n  </tbody>\n</table>\n</div>"
          },
          "metadata": {}
        }
      ],
      "execution_count": null
    },
    {
      "cell_type": "code",
      "source": [
        "#Lihat missing value pada kolom episodes\n",
        "anime_rating[anime_rating['AverageRating'].isnull()]"
      ],
      "metadata": {
        "colab": {
          "base_uri": "https://localhost:8080/",
          "height": 551
        },
        "id": "4UQCk2-iZXxI",
        "outputId": "1692a314-93b3-419b-fccc-d457b46f2bc1",
        "trusted": true,
        "execution": {
          "iopub.status.busy": "2025-06-13T03:05:01.115943Z",
          "iopub.execute_input": "2025-06-13T03:05:01.116158Z",
          "iopub.status.idle": "2025-06-13T03:05:01.144827Z",
          "shell.execute_reply.started": "2025-06-13T03:05:01.116143Z",
          "shell.execute_reply": "2025-06-13T03:05:01.144284Z"
        }
      },
      "outputs": [
        {
          "execution_count": 174,
          "output_type": "execute_result",
          "data": {
            "text/plain": "         anime_id                   name  \\\n1392686     30913                    NaN   \n1969308     30913                    NaN   \n1969309     30924                    NaN   \n3411438     30484          Steins;Gate 0   \n3659298     30913                    NaN   \n3660124     30913                    NaN   \n3959155     30913                    NaN   \n3961670     30484          Steins;Gate 0   \n4478271     30484          Steins;Gate 0   \n4558395     33674  No Game No Life Movie   \n4591586      9488            Cencoroll 2   \n4811385     30484          Steins;Gate 0   \n5104517     20261                    NaN   \n5483385     30913                    NaN   \n6765685     30913                    NaN   \n6765686     30924                    NaN   \n\n                                                     genre   type episodes  \\\n1392686                                                NaN    NaN      NaN   \n1969308                                                NaN    NaN      NaN   \n1969309                                                NaN    NaN      NaN   \n3411438                                   Sci-Fi, Thriller    NaN  Unknown   \n3659298                                                NaN    NaN      NaN   \n3660124                                                NaN    NaN      NaN   \n3959155                                                NaN    NaN      NaN   \n3961670                                   Sci-Fi, Thriller    NaN  Unknown   \n4478271                                   Sci-Fi, Thriller    NaN  Unknown   \n4558395  Adventure, Comedy, Ecchi, Fantasy, Game, Super...  Movie        1   \n4591586                                     Action, Sci-Fi  Movie        1   \n4811385                                   Sci-Fi, Thriller    NaN  Unknown   \n5104517                                                NaN    NaN      NaN   \n5483385                                                NaN    NaN      NaN   \n6765685                                                NaN    NaN      NaN   \n6765686                                                NaN    NaN      NaN   \n\n         AverageRating  members  user_id  rating_user  \n1392686            NaN      NaN    13270           -1  \n1969308            NaN      NaN    19104           -1  \n1969309            NaN      NaN    19104           -1  \n3411438            NaN  60999.0    31437            9  \n3659298            NaN      NaN    34240            9  \n3660124            NaN      NaN    34248           -1  \n3959155            NaN      NaN    37442            9  \n3961670            NaN  60999.0    37475            7  \n4478271            NaN  60999.0    42372            9  \n4558395            NaN  32041.0    43480           -1  \n4591586            NaN  15181.0    43873            7  \n4811385            NaN  60999.0    45904            9  \n5104517            NaN      NaN    48766           -1  \n5483385            NaN      NaN    51693           -1  \n6765685            NaN      NaN    62549           -1  \n6765686            NaN      NaN    62549           -1  ",
            "text/html": "<div>\n<style scoped>\n    .dataframe tbody tr th:only-of-type {\n        vertical-align: middle;\n    }\n\n    .dataframe tbody tr th {\n        vertical-align: top;\n    }\n\n    .dataframe thead th {\n        text-align: right;\n    }\n</style>\n<table border=\"1\" class=\"dataframe\">\n  <thead>\n    <tr style=\"text-align: right;\">\n      <th></th>\n      <th>anime_id</th>\n      <th>name</th>\n      <th>genre</th>\n      <th>type</th>\n      <th>episodes</th>\n      <th>AverageRating</th>\n      <th>members</th>\n      <th>user_id</th>\n      <th>rating_user</th>\n    </tr>\n  </thead>\n  <tbody>\n    <tr>\n      <th>1392686</th>\n      <td>30913</td>\n      <td>NaN</td>\n      <td>NaN</td>\n      <td>NaN</td>\n      <td>NaN</td>\n      <td>NaN</td>\n      <td>NaN</td>\n      <td>13270</td>\n      <td>-1</td>\n    </tr>\n    <tr>\n      <th>1969308</th>\n      <td>30913</td>\n      <td>NaN</td>\n      <td>NaN</td>\n      <td>NaN</td>\n      <td>NaN</td>\n      <td>NaN</td>\n      <td>NaN</td>\n      <td>19104</td>\n      <td>-1</td>\n    </tr>\n    <tr>\n      <th>1969309</th>\n      <td>30924</td>\n      <td>NaN</td>\n      <td>NaN</td>\n      <td>NaN</td>\n      <td>NaN</td>\n      <td>NaN</td>\n      <td>NaN</td>\n      <td>19104</td>\n      <td>-1</td>\n    </tr>\n    <tr>\n      <th>3411438</th>\n      <td>30484</td>\n      <td>Steins;Gate 0</td>\n      <td>Sci-Fi, Thriller</td>\n      <td>NaN</td>\n      <td>Unknown</td>\n      <td>NaN</td>\n      <td>60999.0</td>\n      <td>31437</td>\n      <td>9</td>\n    </tr>\n    <tr>\n      <th>3659298</th>\n      <td>30913</td>\n      <td>NaN</td>\n      <td>NaN</td>\n      <td>NaN</td>\n      <td>NaN</td>\n      <td>NaN</td>\n      <td>NaN</td>\n      <td>34240</td>\n      <td>9</td>\n    </tr>\n    <tr>\n      <th>3660124</th>\n      <td>30913</td>\n      <td>NaN</td>\n      <td>NaN</td>\n      <td>NaN</td>\n      <td>NaN</td>\n      <td>NaN</td>\n      <td>NaN</td>\n      <td>34248</td>\n      <td>-1</td>\n    </tr>\n    <tr>\n      <th>3959155</th>\n      <td>30913</td>\n      <td>NaN</td>\n      <td>NaN</td>\n      <td>NaN</td>\n      <td>NaN</td>\n      <td>NaN</td>\n      <td>NaN</td>\n      <td>37442</td>\n      <td>9</td>\n    </tr>\n    <tr>\n      <th>3961670</th>\n      <td>30484</td>\n      <td>Steins;Gate 0</td>\n      <td>Sci-Fi, Thriller</td>\n      <td>NaN</td>\n      <td>Unknown</td>\n      <td>NaN</td>\n      <td>60999.0</td>\n      <td>37475</td>\n      <td>7</td>\n    </tr>\n    <tr>\n      <th>4478271</th>\n      <td>30484</td>\n      <td>Steins;Gate 0</td>\n      <td>Sci-Fi, Thriller</td>\n      <td>NaN</td>\n      <td>Unknown</td>\n      <td>NaN</td>\n      <td>60999.0</td>\n      <td>42372</td>\n      <td>9</td>\n    </tr>\n    <tr>\n      <th>4558395</th>\n      <td>33674</td>\n      <td>No Game No Life Movie</td>\n      <td>Adventure, Comedy, Ecchi, Fantasy, Game, Super...</td>\n      <td>Movie</td>\n      <td>1</td>\n      <td>NaN</td>\n      <td>32041.0</td>\n      <td>43480</td>\n      <td>-1</td>\n    </tr>\n    <tr>\n      <th>4591586</th>\n      <td>9488</td>\n      <td>Cencoroll 2</td>\n      <td>Action, Sci-Fi</td>\n      <td>Movie</td>\n      <td>1</td>\n      <td>NaN</td>\n      <td>15181.0</td>\n      <td>43873</td>\n      <td>7</td>\n    </tr>\n    <tr>\n      <th>4811385</th>\n      <td>30484</td>\n      <td>Steins;Gate 0</td>\n      <td>Sci-Fi, Thriller</td>\n      <td>NaN</td>\n      <td>Unknown</td>\n      <td>NaN</td>\n      <td>60999.0</td>\n      <td>45904</td>\n      <td>9</td>\n    </tr>\n    <tr>\n      <th>5104517</th>\n      <td>20261</td>\n      <td>NaN</td>\n      <td>NaN</td>\n      <td>NaN</td>\n      <td>NaN</td>\n      <td>NaN</td>\n      <td>NaN</td>\n      <td>48766</td>\n      <td>-1</td>\n    </tr>\n    <tr>\n      <th>5483385</th>\n      <td>30913</td>\n      <td>NaN</td>\n      <td>NaN</td>\n      <td>NaN</td>\n      <td>NaN</td>\n      <td>NaN</td>\n      <td>NaN</td>\n      <td>51693</td>\n      <td>-1</td>\n    </tr>\n    <tr>\n      <th>6765685</th>\n      <td>30913</td>\n      <td>NaN</td>\n      <td>NaN</td>\n      <td>NaN</td>\n      <td>NaN</td>\n      <td>NaN</td>\n      <td>NaN</td>\n      <td>62549</td>\n      <td>-1</td>\n    </tr>\n    <tr>\n      <th>6765686</th>\n      <td>30924</td>\n      <td>NaN</td>\n      <td>NaN</td>\n      <td>NaN</td>\n      <td>NaN</td>\n      <td>NaN</td>\n      <td>NaN</td>\n      <td>62549</td>\n      <td>-1</td>\n    </tr>\n  </tbody>\n</table>\n</div>"
          },
          "metadata": {}
        }
      ],
      "execution_count": null
    },
    {
      "cell_type": "markdown",
      "source": [
        "Karena terdapat banyak kolom dengan baris yang sama memiliki nilai kosong bersamaan pada kolom lain juga, maka penghapusan hanya berdasarkan `genre` dan `AverageRating` sudah cukup mewakili semua missing value untuk membersihkan baris-baris yang tidak lengkap, termasuk yang kolom lainnya yang kosong.\n",
        "\n"
      ],
      "metadata": {
        "id": "pIZzxkGusWl8"
      }
    },
    {
      "cell_type": "code",
      "source": [
        "# Menangani missing value genre anime_rating\n",
        "anime_rating = anime_rating.dropna(subset=['genre', 'AverageRating'])\n",
        "anime_rating.isnull().sum()"
      ],
      "metadata": {
        "colab": {
          "base_uri": "https://localhost:8080/",
          "height": 366
        },
        "id": "Noo4XYDZvKF6",
        "outputId": "686d30bb-e4d9-41bf-feb7-4b7b001b821e",
        "trusted": true,
        "execution": {
          "iopub.status.busy": "2025-06-13T03:05:01.14553Z",
          "iopub.execute_input": "2025-06-13T03:05:01.145757Z",
          "iopub.status.idle": "2025-06-13T03:05:03.49103Z",
          "shell.execute_reply.started": "2025-06-13T03:05:01.145734Z",
          "shell.execute_reply": "2025-06-13T03:05:03.490414Z"
        }
      },
      "outputs": [
        {
          "execution_count": 175,
          "output_type": "execute_result",
          "data": {
            "text/plain": "anime_id         0\nname             0\ngenre            0\ntype             0\nepisodes         0\nAverageRating    0\nmembers          0\nuser_id          0\nrating_user      0\ndtype: int64"
          },
          "metadata": {}
        }
      ],
      "execution_count": null
    },
    {
      "cell_type": "code",
      "source": [
        "anime_rating.duplicated().sum()"
      ],
      "metadata": {
        "colab": {
          "base_uri": "https://localhost:8080/"
        },
        "id": "SgGcv75vWCpa",
        "outputId": "4912e0f6-172a-4e49-b5e1-f72c44c9d4a7",
        "trusted": true,
        "execution": {
          "iopub.status.busy": "2025-06-13T03:05:03.491929Z",
          "iopub.execute_input": "2025-06-13T03:05:03.492107Z",
          "iopub.status.idle": "2025-06-13T03:05:07.865252Z",
          "shell.execute_reply.started": "2025-06-13T03:05:03.492094Z",
          "shell.execute_reply": "2025-06-13T03:05:07.864657Z"
        }
      },
      "outputs": [
        {
          "execution_count": 176,
          "output_type": "execute_result",
          "data": {
            "text/plain": "1"
          },
          "metadata": {}
        }
      ],
      "execution_count": null
    },
    {
      "cell_type": "code",
      "source": [
        "# Hapus data duplikat\n",
        "anime_rating = anime_rating.drop_duplicates()\n",
        "anime_rating.duplicated().sum()"
      ],
      "metadata": {
        "colab": {
          "base_uri": "https://localhost:8080/"
        },
        "id": "NQKQe78paWYj",
        "outputId": "e39c8a26-0bee-43f8-d4ad-14605f3f329b",
        "trusted": true,
        "execution": {
          "iopub.status.busy": "2025-06-13T03:05:07.865892Z",
          "iopub.execute_input": "2025-06-13T03:05:07.866066Z",
          "iopub.status.idle": "2025-06-13T03:05:17.31844Z",
          "shell.execute_reply.started": "2025-06-13T03:05:07.866052Z",
          "shell.execute_reply": "2025-06-13T03:05:17.317819Z"
        }
      },
      "outputs": [
        {
          "execution_count": 177,
          "output_type": "execute_result",
          "data": {
            "text/plain": "0"
          },
          "metadata": {}
        }
      ],
      "execution_count": null
    },
    {
      "cell_type": "code",
      "source": [
        "anime_rating.shape"
      ],
      "metadata": {
        "colab": {
          "base_uri": "https://localhost:8080/"
        },
        "id": "h4v_hGFh7iqp",
        "outputId": "11f34c62-e02e-4e62-8d84-7159212c7a67",
        "trusted": true,
        "execution": {
          "iopub.status.busy": "2025-06-13T03:05:17.31911Z",
          "iopub.execute_input": "2025-06-13T03:05:17.31929Z",
          "iopub.status.idle": "2025-06-13T03:05:17.323833Z",
          "shell.execute_reply.started": "2025-06-13T03:05:17.319276Z",
          "shell.execute_reply": "2025-06-13T03:05:17.323289Z"
        }
      },
      "outputs": [
        {
          "execution_count": 178,
          "output_type": "execute_result",
          "data": {
            "text/plain": "(7813610, 9)"
          },
          "metadata": {}
        }
      ],
      "execution_count": null
    },
    {
      "cell_type": "code",
      "source": [
        "# Mengubah value di rating (rating.csv) when = -1 diubah jadi 0\n",
        "anime_rating.loc[anime_rating['rating_user'] == -1, 'rating_user'] = 0\n",
        "\n",
        "anime_rating.head()"
      ],
      "metadata": {
        "colab": {
          "base_uri": "https://localhost:8080/",
          "height": 206
        },
        "id": "3Im4Sj5jycsu",
        "outputId": "4ddb0f6a-5a4e-44ac-d0d0-688b6334742d",
        "trusted": true,
        "execution": {
          "iopub.status.busy": "2025-06-13T03:05:17.327635Z",
          "iopub.execute_input": "2025-06-13T03:05:17.32804Z",
          "iopub.status.idle": "2025-06-13T03:05:17.36793Z",
          "shell.execute_reply.started": "2025-06-13T03:05:17.328024Z",
          "shell.execute_reply": "2025-06-13T03:05:17.367212Z"
        }
      },
      "outputs": [
        {
          "execution_count": 179,
          "output_type": "execute_result",
          "data": {
            "text/plain": "   anime_id                       name  \\\n0        20                     Naruto   \n1        24              School Rumble   \n2        79                   Shuffle!   \n3       226                 Elfen Lied   \n4       241  Girls Bravo: First Season   \n\n                                               genre type episodes  \\\n0  Action, Comedy, Martial Arts, Shounen, Super P...   TV      220   \n1                   Comedy, Romance, School, Shounen   TV       26   \n2  Comedy, Drama, Ecchi, Fantasy, Harem, Magic, R...   TV       24   \n3  Action, Drama, Horror, Psychological, Romance,...   TV       13   \n4     Comedy, Ecchi, Fantasy, Harem, Romance, School   TV       11   \n\n   AverageRating   members  user_id  rating_user  \n0           7.81  683297.0        1            0  \n1           8.06  178553.0        1            0  \n2           7.31  158772.0        1            0  \n3           7.85  623511.0        1            0  \n4           6.69   84395.0        1            0  ",
            "text/html": "<div>\n<style scoped>\n    .dataframe tbody tr th:only-of-type {\n        vertical-align: middle;\n    }\n\n    .dataframe tbody tr th {\n        vertical-align: top;\n    }\n\n    .dataframe thead th {\n        text-align: right;\n    }\n</style>\n<table border=\"1\" class=\"dataframe\">\n  <thead>\n    <tr style=\"text-align: right;\">\n      <th></th>\n      <th>anime_id</th>\n      <th>name</th>\n      <th>genre</th>\n      <th>type</th>\n      <th>episodes</th>\n      <th>AverageRating</th>\n      <th>members</th>\n      <th>user_id</th>\n      <th>rating_user</th>\n    </tr>\n  </thead>\n  <tbody>\n    <tr>\n      <th>0</th>\n      <td>20</td>\n      <td>Naruto</td>\n      <td>Action, Comedy, Martial Arts, Shounen, Super P...</td>\n      <td>TV</td>\n      <td>220</td>\n      <td>7.81</td>\n      <td>683297.0</td>\n      <td>1</td>\n      <td>0</td>\n    </tr>\n    <tr>\n      <th>1</th>\n      <td>24</td>\n      <td>School Rumble</td>\n      <td>Comedy, Romance, School, Shounen</td>\n      <td>TV</td>\n      <td>26</td>\n      <td>8.06</td>\n      <td>178553.0</td>\n      <td>1</td>\n      <td>0</td>\n    </tr>\n    <tr>\n      <th>2</th>\n      <td>79</td>\n      <td>Shuffle!</td>\n      <td>Comedy, Drama, Ecchi, Fantasy, Harem, Magic, R...</td>\n      <td>TV</td>\n      <td>24</td>\n      <td>7.31</td>\n      <td>158772.0</td>\n      <td>1</td>\n      <td>0</td>\n    </tr>\n    <tr>\n      <th>3</th>\n      <td>226</td>\n      <td>Elfen Lied</td>\n      <td>Action, Drama, Horror, Psychological, Romance,...</td>\n      <td>TV</td>\n      <td>13</td>\n      <td>7.85</td>\n      <td>623511.0</td>\n      <td>1</td>\n      <td>0</td>\n    </tr>\n    <tr>\n      <th>4</th>\n      <td>241</td>\n      <td>Girls Bravo: First Season</td>\n      <td>Comedy, Ecchi, Fantasy, Harem, Romance, School</td>\n      <td>TV</td>\n      <td>11</td>\n      <td>6.69</td>\n      <td>84395.0</td>\n      <td>1</td>\n      <td>0</td>\n    </tr>\n  </tbody>\n</table>\n</div>"
          },
          "metadata": {}
        }
      ],
      "execution_count": null
    },
    {
      "cell_type": "code",
      "source": [
        "# Ambil hanya kolom relevan dan buang duplikat berdasarkan anime_id untuk model CBF\n",
        "anime_unique = anime_rating[['anime_id', 'name', 'genre', 'AverageRating']].drop_duplicates('anime_id').copy()\n"
      ],
      "metadata": {
        "id": "shIFt3IPgxRB",
        "trusted": true,
        "execution": {
          "iopub.status.busy": "2025-06-13T03:05:17.3687Z",
          "iopub.execute_input": "2025-06-13T03:05:17.368982Z",
          "iopub.status.idle": "2025-06-13T03:05:17.664796Z",
          "shell.execute_reply.started": "2025-06-13T03:05:17.368961Z",
          "shell.execute_reply": "2025-06-13T03:05:17.66403Z"
        }
      },
      "outputs": [],
      "execution_count": null
    },
    {
      "cell_type": "code",
      "source": [
        "# TF-IDF vectorizer: tokenisasi berdasarkan koma\n",
        "tfidf = TfidfVectorizer(tokenizer=lambda x: x.split(', '))\n",
        "\n",
        "# Melakukan perhitungan idf pada data cuisine\n",
        "tfidf.fit(anime_unique['genre'])\n",
        "\n",
        "# Mapping array dari fitur index integer ke fitur nama\n",
        "tfidf.get_feature_names_out()\n",
        "\n"
      ],
      "metadata": {
        "colab": {
          "base_uri": "https://localhost:8080/"
        },
        "id": "3-TDGkxuhDQn",
        "outputId": "5bd012e0-990d-4329-db07-17ae028066f1",
        "trusted": true,
        "execution": {
          "iopub.status.busy": "2025-06-13T03:05:17.665582Z",
          "iopub.execute_input": "2025-06-13T03:05:17.665817Z",
          "iopub.status.idle": "2025-06-13T03:05:17.700456Z",
          "shell.execute_reply.started": "2025-06-13T03:05:17.665792Z",
          "shell.execute_reply": "2025-06-13T03:05:17.69976Z"
        }
      },
      "outputs": [
        {
          "execution_count": 181,
          "output_type": "execute_result",
          "data": {
            "text/plain": "array(['action', 'adventure', 'cars', 'comedy', 'dementia', 'demons',\n       'drama', 'ecchi', 'fantasy', 'game', 'harem', 'hentai',\n       'historical', 'horror', 'josei', 'kids', 'magic', 'martial arts',\n       'mecha', 'military', 'music', 'mystery', 'parody', 'police',\n       'psychological', 'romance', 'samurai', 'school', 'sci-fi',\n       'seinen', 'shoujo', 'shoujo ai', 'shounen', 'shounen ai',\n       'slice of life', 'space', 'sports', 'super power', 'supernatural',\n       'thriller', 'vampire', 'yaoi', 'yuri'], dtype=object)"
          },
          "metadata": {}
        }
      ],
      "execution_count": null
    },
    {
      "cell_type": "code",
      "source": [
        "# Melakukan fit lalu ditransformasikan ke bentuk matrix\n",
        "tfidf_matrix = tfidf.fit_transform(anime_unique['genre'])\n",
        "print(\"Shape TF-IDF matrix:\", tfidf_matrix.shape)\n"
      ],
      "metadata": {
        "colab": {
          "base_uri": "https://localhost:8080/"
        },
        "id": "dnfa1o3Pj6PQ",
        "outputId": "baf49a72-5f2c-492f-980f-0c6e376f90df",
        "trusted": true,
        "execution": {
          "iopub.status.busy": "2025-06-13T03:05:17.701209Z",
          "iopub.execute_input": "2025-06-13T03:05:17.701452Z",
          "iopub.status.idle": "2025-06-13T03:05:17.738963Z",
          "shell.execute_reply.started": "2025-06-13T03:05:17.70143Z",
          "shell.execute_reply": "2025-06-13T03:05:17.738245Z"
        }
      },
      "outputs": [
        {
          "name": "stdout",
          "text": "Shape TF-IDF matrix: (11162, 43)\n",
          "output_type": "stream"
        }
      ],
      "execution_count": null
    },
    {
      "cell_type": "code",
      "source": [
        "# Mengubah vektor tf-idf dalam bentuk matriks dengan fungsi todense()\n",
        "tfidf_matrix.todense()"
      ],
      "metadata": {
        "colab": {
          "base_uri": "https://localhost:8080/"
        },
        "id": "39hHUcQRkayP",
        "outputId": "7a2704d4-e258-4c70-d558-9462303da997",
        "trusted": true,
        "execution": {
          "iopub.status.busy": "2025-06-13T03:05:17.739688Z",
          "iopub.execute_input": "2025-06-13T03:05:17.739897Z",
          "iopub.status.idle": "2025-06-13T03:05:17.74957Z",
          "shell.execute_reply.started": "2025-06-13T03:05:17.739877Z",
          "shell.execute_reply": "2025-06-13T03:05:17.748947Z"
        }
      },
      "outputs": [
        {
          "execution_count": 183,
          "output_type": "execute_result",
          "data": {
            "text/plain": "matrix([[0.31444719, 0.        , 0.        , ..., 0.        , 0.        ,\n         0.        ],\n        [0.        , 0.        , 0.        , ..., 0.        , 0.        ,\n         0.        ],\n        [0.        , 0.        , 0.        , ..., 0.        , 0.        ,\n         0.        ],\n        ...,\n        [0.        , 0.        , 0.        , ..., 0.        , 0.        ,\n         0.        ],\n        [0.        , 0.        , 0.        , ..., 0.        , 0.        ,\n         0.        ],\n        [0.        , 0.64080823, 0.        , ..., 0.        , 0.        ,\n         0.        ]])"
          },
          "metadata": {}
        }
      ],
      "execution_count": null
    },
    {
      "cell_type": "code",
      "source": [
        "# Persiapan data untuk model CF\n",
        "# Hanya ambil data dengan rating_user >= 5\n",
        "print(f\"Total data sebelum filter rating: {len(anime_rating)}\")\n",
        "\n",
        "filt_anime_rating = anime_rating[anime_rating['rating_user'] >= 7].copy()\n",
        "\n",
        "print(f\"Total data setelah filter rating: {len(filt_anime_rating)}\")\n"
      ],
      "metadata": {
        "colab": {
          "base_uri": "https://localhost:8080/"
        },
        "id": "VNeB5MLxsC0C",
        "outputId": "877489ca-a210-490f-b40a-67e14447f013",
        "trusted": true,
        "execution": {
          "iopub.status.busy": "2025-06-13T03:05:17.750418Z",
          "iopub.execute_input": "2025-06-13T03:05:17.75068Z",
          "iopub.status.idle": "2025-06-13T03:05:18.534477Z",
          "shell.execute_reply.started": "2025-06-13T03:05:17.750666Z",
          "shell.execute_reply": "2025-06-13T03:05:18.533835Z"
        }
      },
      "outputs": [
        {
          "name": "stdout",
          "text": "Total data sebelum filter rating: 7813610\nTotal data setelah filter rating: 5231096\n",
          "output_type": "stream"
        }
      ],
      "execution_count": null
    },
    {
      "cell_type": "code",
      "source": [
        "import numpy as np\n",
        "import tensorflow as tf\n",
        "from tensorflow.keras import layers, Model, regularizers\n",
        "import matplotlib.pyplot as plt\n",
        "\n",
        "\n",
        "# Encode user_id dan anime_id\n",
        "user_ids = filt_anime_rating['user_id'].unique().tolist()\n",
        "user_to_user_encoded = {x: i for i, x in enumerate(user_ids)}\n",
        "user_encoded_to_user = {i: x for i, x in enumerate(user_ids)}\n",
        "\n",
        "anime_ids = filt_anime_rating['anime_id'].unique().tolist()\n",
        "anime_to_anime_encoded = {x: i for i, x in enumerate(anime_ids)}\n",
        "anime_encoded_to_anime = {i: x for i, x in enumerate(anime_ids)}\n"
      ],
      "metadata": {
        "id": "EY2sriFZlLN1",
        "trusted": true,
        "execution": {
          "iopub.status.busy": "2025-06-13T03:05:18.5352Z",
          "iopub.execute_input": "2025-06-13T03:05:18.535381Z",
          "iopub.status.idle": "2025-06-13T03:05:18.61471Z",
          "shell.execute_reply.started": "2025-06-13T03:05:18.535367Z",
          "shell.execute_reply": "2025-06-13T03:05:18.614138Z"
        }
      },
      "outputs": [],
      "execution_count": null
    },
    {
      "cell_type": "code",
      "source": [
        "# Mapping ke dataframe\n",
        "filt_anime_rating['user'] = filt_anime_rating['user_id'].map(user_to_user_encoded)\n",
        "filt_anime_rating['anime'] = filt_anime_rating['anime_id'].map(anime_to_anime_encoded)\n"
      ],
      "metadata": {
        "id": "z703alwjpSKu",
        "trusted": true,
        "execution": {
          "iopub.status.busy": "2025-06-13T03:05:18.615393Z",
          "iopub.execute_input": "2025-06-13T03:05:18.615653Z",
          "iopub.status.idle": "2025-06-13T03:05:18.782351Z",
          "shell.execute_reply.started": "2025-06-13T03:05:18.615631Z",
          "shell.execute_reply": "2025-06-13T03:05:18.781812Z"
        }
      },
      "outputs": [],
      "execution_count": null
    },
    {
      "cell_type": "code",
      "source": [
        "# Skala rating_user ke 0-1 supaya cocok sigmoid output\n",
        "min_rating = filt_anime_rating['rating_user'].min()\n",
        "max_rating = filt_anime_rating['rating_user'].max()\n",
        "filt_anime_rating['rating'] = filt_anime_rating['rating_user'].apply(lambda x: (x - min_rating) / (max_rating - min_rating))\n"
      ],
      "metadata": {
        "id": "98c9y0oBpV6O",
        "trusted": true,
        "execution": {
          "iopub.status.busy": "2025-06-13T03:05:18.783048Z",
          "iopub.execute_input": "2025-06-13T03:05:18.783247Z",
          "iopub.status.idle": "2025-06-13T03:05:20.042826Z",
          "shell.execute_reply.started": "2025-06-13T03:05:18.783231Z",
          "shell.execute_reply": "2025-06-13T03:05:20.042254Z"
        }
      },
      "outputs": [],
      "execution_count": null
    },
    {
      "cell_type": "code",
      "source": [
        "# Jumlah user dan anime\n",
        "num_users = len(user_to_user_encoded)\n",
        "num_anime = len(anime_to_anime_encoded)\n"
      ],
      "metadata": {
        "id": "XVqlrYkTpYlo",
        "trusted": true,
        "execution": {
          "iopub.status.busy": "2025-06-13T03:05:20.043517Z",
          "iopub.execute_input": "2025-06-13T03:05:20.043726Z",
          "iopub.status.idle": "2025-06-13T03:05:20.047386Z",
          "shell.execute_reply.started": "2025-06-13T03:05:20.04371Z",
          "shell.execute_reply": "2025-06-13T03:05:20.046729Z"
        }
      },
      "outputs": [],
      "execution_count": null
    },
    {
      "cell_type": "code",
      "source": [
        "# Split data train dan val\n",
        "filt_anime_rating = filt_anime_rating.sample(frac=1, random_state=42)\n",
        "train_size = int(0.8 * len(filt_anime_rating))\n",
        "\n",
        "x = filt_anime_rating[['user', 'anime']].values\n",
        "y = filt_anime_rating['rating'].values\n",
        "\n",
        "x_train, x_val = x[:train_size], x[train_size:]\n",
        "y_train, y_val = y[:train_size], y[train_size:]\n"
      ],
      "metadata": {
        "id": "4Sm8ffBZpa4v",
        "trusted": true,
        "execution": {
          "iopub.status.busy": "2025-06-13T03:05:20.048027Z",
          "iopub.execute_input": "2025-06-13T03:05:20.048221Z",
          "iopub.status.idle": "2025-06-13T03:05:22.995395Z",
          "shell.execute_reply.started": "2025-06-13T03:05:20.048207Z",
          "shell.execute_reply": "2025-06-13T03:05:22.994799Z"
        }
      },
      "outputs": [],
      "execution_count": null
    },
    {
      "cell_type": "markdown",
      "source": [
        "# Modeling"
      ],
      "metadata": {
        "id": "oWoXzmaAoDvL"
      }
    },
    {
      "cell_type": "markdown",
      "source": [
        "## Model Development dengan Content Based Filtering"
      ],
      "metadata": {
        "id": "_wisQ5qpoHBN"
      }
    },
    {
      "cell_type": "code",
      "source": [
        "# Membuat dataframe untuk melihat tf-idf matrix\n",
        "\n",
        "pd.DataFrame(\n",
        "    tfidf_matrix.todense(),\n",
        "    columns=tfidf.get_feature_names_out(),\n",
        "    index=anime_unique['name']\n",
        ").sample(22, axis=1).sample(10, axis=0)"
      ],
      "metadata": {
        "colab": {
          "base_uri": "https://localhost:8080/",
          "height": 527
        },
        "id": "4E-LsH-pkf9A",
        "outputId": "1dc57a92-e022-4e10-ab05-9316a32920b4",
        "trusted": true,
        "execution": {
          "iopub.status.busy": "2025-06-13T03:05:22.996202Z",
          "iopub.execute_input": "2025-06-13T03:05:22.996406Z",
          "iopub.status.idle": "2025-06-13T03:05:23.022449Z",
          "shell.execute_reply.started": "2025-06-13T03:05:22.996391Z",
          "shell.execute_reply": "2025-06-13T03:05:23.021928Z"
        }
      },
      "outputs": [
        {
          "execution_count": 190,
          "output_type": "execute_result",
          "data": {
            "text/plain": "                                                     romance   demons  \\\nname                                                                    \nBaby Baachan                                        0.000000  0.00000   \nDonguri to Yamaneko (1995)                          0.000000  0.74418   \nPuchi Puri Yuushi                                   0.000000  0.00000   \nMobile Suit Gundam 00 Second Season                 0.000000  0.00000   \nBishoujo Animerama: Manami no Michi Tono Sou Ny...  0.000000  0.00000   \nHajime no Ippo: Rising                              0.000000  0.00000   \nRobotics;Notes                                      0.000000  0.00000   \nAIKa                                                0.000000  0.00000   \nJewelpet Happiness                                  0.000000  0.00000   \nD.C.II S.S.: Da Capo II Second Season               0.436316  0.00000   \n\n                                                     fantasy  seinen  \\\nname                                                                   \nBaby Baachan                                        0.000000     0.0   \nDonguri to Yamaneko (1995)                          0.000000     0.0   \nPuchi Puri Yuushi                                   0.417891     0.0   \nMobile Suit Gundam 00 Second Season                 0.000000     0.0   \nBishoujo Animerama: Manami no Michi Tono Sou Ny...  0.000000     0.0   \nHajime no Ippo: Rising                              0.000000     0.0   \nRobotics;Notes                                      0.000000     0.0   \nAIKa                                                0.000000     0.0   \nJewelpet Happiness                                  0.439126     0.0   \nD.C.II S.S.: Da Capo II Second Season               0.380106     0.0   \n\n                                                      shoujo  historical  \\\nname                                                                       \nBaby Baachan                                        0.000000         0.0   \nDonguri to Yamaneko (1995)                          0.000000         0.0   \nPuchi Puri Yuushi                                   0.620916         0.0   \nMobile Suit Gundam 00 Second Season                 0.000000         0.0   \nBishoujo Animerama: Manami no Michi Tono Sou Ny...  0.000000         0.0   \nHajime no Ippo: Rising                              0.000000         0.0   \nRobotics;Notes                                      0.000000         0.0   \nAIKa                                                0.000000         0.0   \nJewelpet Happiness                                  0.652468         0.0   \nD.C.II S.S.: Da Capo II Second Season               0.000000         0.0   \n\n                                                      comedy  super power  \\\nname                                                                        \nBaby Baachan                                        0.574588          0.0   \nDonguri to Yamaneko (1995)                          0.000000          0.0   \nPuchi Puri Yuushi                                   0.307209          0.0   \nMobile Suit Gundam 00 Second Season                 0.000000          0.0   \nBishoujo Animerama: Manami no Michi Tono Sou Ny...  0.000000          0.0   \nHajime no Ippo: Rising                              0.322825          0.0   \nRobotics;Notes                                      0.000000          0.0   \nAIKa                                                0.313161          0.0   \nJewelpet Happiness                                  0.000000          0.0   \nD.C.II S.S.: Da Capo II Second Season               0.279432          0.0   \n\n                                                       ecchi     harem  ...  \\\nname                                                                    ...   \nBaby Baachan                                        0.000000  0.000000  ...   \nDonguri to Yamaneko (1995)                          0.000000  0.000000  ...   \nPuchi Puri Yuushi                                   0.000000  0.000000  ...   \nMobile Suit Gundam 00 Second Season                 0.000000  0.000000  ...   \nBishoujo Animerama: Manami no Michi Tono Sou Ny...  0.000000  0.000000  ...   \nHajime no Ippo: Rising                              0.000000  0.000000  ...   \nRobotics;Notes                                      0.000000  0.000000  ...   \nAIKa                                                0.621465  0.000000  ...   \nJewelpet Happiness                                  0.000000  0.000000  ...   \nD.C.II S.S.: Da Capo II Second Season               0.000000  0.654709  ...   \n\n                                                      sports  josei  dementia  \\\nname                                                                            \nBaby Baachan                                        0.000000    0.0       0.0   \nDonguri to Yamaneko (1995)                          0.000000    0.0       0.0   \nPuchi Puri Yuushi                                   0.000000    0.0       0.0   \nMobile Suit Gundam 00 Second Season                 0.000000    0.0       0.0   \nBishoujo Animerama: Manami no Michi Tono Sou Ny...  0.000000    0.0       0.0   \nHajime no Ippo: Rising                              0.673127    0.0       0.0   \nRobotics;Notes                                      0.000000    0.0       0.0   \nAIKa                                                0.000000    0.0       0.0   \nJewelpet Happiness                                  0.000000    0.0       0.0   \nD.C.II S.S.: Da Capo II Second Season               0.000000    0.0       0.0   \n\n                                                    music    sci-fi     kids  \\\nname                                                                           \nBaby Baachan                                          0.0  0.000000  0.00000   \nDonguri to Yamaneko (1995)                            0.0  0.000000  0.49948   \nPuchi Puri Yuushi                                     0.0  0.000000  0.00000   \nMobile Suit Gundam 00 Second Season                   0.0  0.322668  0.00000   \nBishoujo Animerama: Manami no Michi Tono Sou Ny...    0.0  0.634821  0.00000   \nHajime no Ippo: Rising                                0.0  0.000000  0.00000   \nRobotics;Notes                                        0.0  0.414404  0.00000   \nAIKa                                                  0.0  0.435832  0.00000   \nJewelpet Happiness                                    0.0  0.000000  0.00000   \nD.C.II S.S.: Da Capo II Second Season                 0.0  0.000000  0.00000   \n\n                                                    military  shoujo ai  \\\nname                                                                      \nBaby Baachan                                         0.00000        0.0   \nDonguri to Yamaneko (1995)                           0.00000        0.0   \nPuchi Puri Yuushi                                    0.00000        0.0   \nMobile Suit Gundam 00 Second Season                  0.50872        0.0   \nBishoujo Animerama: Manami no Michi Tono Sou Ny...   0.00000        0.0   \nHajime no Ippo: Rising                               0.00000        0.0   \nRobotics;Notes                                       0.00000        0.0   \nAIKa                                                 0.00000        0.0   \nJewelpet Happiness                                   0.00000        0.0   \nD.C.II S.S.: Da Capo II Second Season                0.00000        0.0   \n\n                                                    psychological  thriller  \nname                                                                         \nBaby Baachan                                                  0.0       0.0  \nDonguri to Yamaneko (1995)                                    0.0       0.0  \nPuchi Puri Yuushi                                             0.0       0.0  \nMobile Suit Gundam 00 Second Season                           0.0       0.0  \nBishoujo Animerama: Manami no Michi Tono Sou Ny...            0.0       0.0  \nHajime no Ippo: Rising                                        0.0       0.0  \nRobotics;Notes                                                0.0       0.0  \nAIKa                                                          0.0       0.0  \nJewelpet Happiness                                            0.0       0.0  \nD.C.II S.S.: Da Capo II Second Season                         0.0       0.0  \n\n[10 rows x 22 columns]",
            "text/html": "<div>\n<style scoped>\n    .dataframe tbody tr th:only-of-type {\n        vertical-align: middle;\n    }\n\n    .dataframe tbody tr th {\n        vertical-align: top;\n    }\n\n    .dataframe thead th {\n        text-align: right;\n    }\n</style>\n<table border=\"1\" class=\"dataframe\">\n  <thead>\n    <tr style=\"text-align: right;\">\n      <th></th>\n      <th>romance</th>\n      <th>demons</th>\n      <th>fantasy</th>\n      <th>seinen</th>\n      <th>shoujo</th>\n      <th>historical</th>\n      <th>comedy</th>\n      <th>super power</th>\n      <th>ecchi</th>\n      <th>harem</th>\n      <th>...</th>\n      <th>sports</th>\n      <th>josei</th>\n      <th>dementia</th>\n      <th>music</th>\n      <th>sci-fi</th>\n      <th>kids</th>\n      <th>military</th>\n      <th>shoujo ai</th>\n      <th>psychological</th>\n      <th>thriller</th>\n    </tr>\n    <tr>\n      <th>name</th>\n      <th></th>\n      <th></th>\n      <th></th>\n      <th></th>\n      <th></th>\n      <th></th>\n      <th></th>\n      <th></th>\n      <th></th>\n      <th></th>\n      <th></th>\n      <th></th>\n      <th></th>\n      <th></th>\n      <th></th>\n      <th></th>\n      <th></th>\n      <th></th>\n      <th></th>\n      <th></th>\n      <th></th>\n    </tr>\n  </thead>\n  <tbody>\n    <tr>\n      <th>Baby Baachan</th>\n      <td>0.000000</td>\n      <td>0.00000</td>\n      <td>0.000000</td>\n      <td>0.0</td>\n      <td>0.000000</td>\n      <td>0.0</td>\n      <td>0.574588</td>\n      <td>0.0</td>\n      <td>0.000000</td>\n      <td>0.000000</td>\n      <td>...</td>\n      <td>0.000000</td>\n      <td>0.0</td>\n      <td>0.0</td>\n      <td>0.0</td>\n      <td>0.000000</td>\n      <td>0.00000</td>\n      <td>0.00000</td>\n      <td>0.0</td>\n      <td>0.0</td>\n      <td>0.0</td>\n    </tr>\n    <tr>\n      <th>Donguri to Yamaneko (1995)</th>\n      <td>0.000000</td>\n      <td>0.74418</td>\n      <td>0.000000</td>\n      <td>0.0</td>\n      <td>0.000000</td>\n      <td>0.0</td>\n      <td>0.000000</td>\n      <td>0.0</td>\n      <td>0.000000</td>\n      <td>0.000000</td>\n      <td>...</td>\n      <td>0.000000</td>\n      <td>0.0</td>\n      <td>0.0</td>\n      <td>0.0</td>\n      <td>0.000000</td>\n      <td>0.49948</td>\n      <td>0.00000</td>\n      <td>0.0</td>\n      <td>0.0</td>\n      <td>0.0</td>\n    </tr>\n    <tr>\n      <th>Puchi Puri Yuushi</th>\n      <td>0.000000</td>\n      <td>0.00000</td>\n      <td>0.417891</td>\n      <td>0.0</td>\n      <td>0.620916</td>\n      <td>0.0</td>\n      <td>0.307209</td>\n      <td>0.0</td>\n      <td>0.000000</td>\n      <td>0.000000</td>\n      <td>...</td>\n      <td>0.000000</td>\n      <td>0.0</td>\n      <td>0.0</td>\n      <td>0.0</td>\n      <td>0.000000</td>\n      <td>0.00000</td>\n      <td>0.00000</td>\n      <td>0.0</td>\n      <td>0.0</td>\n      <td>0.0</td>\n    </tr>\n    <tr>\n      <th>Mobile Suit Gundam 00 Second Season</th>\n      <td>0.000000</td>\n      <td>0.00000</td>\n      <td>0.000000</td>\n      <td>0.0</td>\n      <td>0.000000</td>\n      <td>0.0</td>\n      <td>0.000000</td>\n      <td>0.0</td>\n      <td>0.000000</td>\n      <td>0.000000</td>\n      <td>...</td>\n      <td>0.000000</td>\n      <td>0.0</td>\n      <td>0.0</td>\n      <td>0.0</td>\n      <td>0.322668</td>\n      <td>0.00000</td>\n      <td>0.50872</td>\n      <td>0.0</td>\n      <td>0.0</td>\n      <td>0.0</td>\n    </tr>\n    <tr>\n      <th>Bishoujo Animerama: Manami no Michi Tono Sou Nyuu!?</th>\n      <td>0.000000</td>\n      <td>0.00000</td>\n      <td>0.000000</td>\n      <td>0.0</td>\n      <td>0.000000</td>\n      <td>0.0</td>\n      <td>0.000000</td>\n      <td>0.0</td>\n      <td>0.000000</td>\n      <td>0.000000</td>\n      <td>...</td>\n      <td>0.000000</td>\n      <td>0.0</td>\n      <td>0.0</td>\n      <td>0.0</td>\n      <td>0.634821</td>\n      <td>0.00000</td>\n      <td>0.00000</td>\n      <td>0.0</td>\n      <td>0.0</td>\n      <td>0.0</td>\n    </tr>\n    <tr>\n      <th>Hajime no Ippo: Rising</th>\n      <td>0.000000</td>\n      <td>0.00000</td>\n      <td>0.000000</td>\n      <td>0.0</td>\n      <td>0.000000</td>\n      <td>0.0</td>\n      <td>0.322825</td>\n      <td>0.0</td>\n      <td>0.000000</td>\n      <td>0.000000</td>\n      <td>...</td>\n      <td>0.673127</td>\n      <td>0.0</td>\n      <td>0.0</td>\n      <td>0.0</td>\n      <td>0.000000</td>\n      <td>0.00000</td>\n      <td>0.00000</td>\n      <td>0.0</td>\n      <td>0.0</td>\n      <td>0.0</td>\n    </tr>\n    <tr>\n      <th>Robotics;Notes</th>\n      <td>0.000000</td>\n      <td>0.00000</td>\n      <td>0.000000</td>\n      <td>0.0</td>\n      <td>0.000000</td>\n      <td>0.0</td>\n      <td>0.000000</td>\n      <td>0.0</td>\n      <td>0.000000</td>\n      <td>0.000000</td>\n      <td>...</td>\n      <td>0.000000</td>\n      <td>0.0</td>\n      <td>0.0</td>\n      <td>0.0</td>\n      <td>0.414404</td>\n      <td>0.00000</td>\n      <td>0.00000</td>\n      <td>0.0</td>\n      <td>0.0</td>\n      <td>0.0</td>\n    </tr>\n    <tr>\n      <th>AIKa</th>\n      <td>0.000000</td>\n      <td>0.00000</td>\n      <td>0.000000</td>\n      <td>0.0</td>\n      <td>0.000000</td>\n      <td>0.0</td>\n      <td>0.313161</td>\n      <td>0.0</td>\n      <td>0.621465</td>\n      <td>0.000000</td>\n      <td>...</td>\n      <td>0.000000</td>\n      <td>0.0</td>\n      <td>0.0</td>\n      <td>0.0</td>\n      <td>0.435832</td>\n      <td>0.00000</td>\n      <td>0.00000</td>\n      <td>0.0</td>\n      <td>0.0</td>\n      <td>0.0</td>\n    </tr>\n    <tr>\n      <th>Jewelpet Happiness</th>\n      <td>0.000000</td>\n      <td>0.00000</td>\n      <td>0.439126</td>\n      <td>0.0</td>\n      <td>0.652468</td>\n      <td>0.0</td>\n      <td>0.000000</td>\n      <td>0.0</td>\n      <td>0.000000</td>\n      <td>0.000000</td>\n      <td>...</td>\n      <td>0.000000</td>\n      <td>0.0</td>\n      <td>0.0</td>\n      <td>0.0</td>\n      <td>0.000000</td>\n      <td>0.00000</td>\n      <td>0.00000</td>\n      <td>0.0</td>\n      <td>0.0</td>\n      <td>0.0</td>\n    </tr>\n    <tr>\n      <th>D.C.II S.S.: Da Capo II Second Season</th>\n      <td>0.436316</td>\n      <td>0.00000</td>\n      <td>0.380106</td>\n      <td>0.0</td>\n      <td>0.000000</td>\n      <td>0.0</td>\n      <td>0.279432</td>\n      <td>0.0</td>\n      <td>0.000000</td>\n      <td>0.654709</td>\n      <td>...</td>\n      <td>0.000000</td>\n      <td>0.0</td>\n      <td>0.0</td>\n      <td>0.0</td>\n      <td>0.000000</td>\n      <td>0.00000</td>\n      <td>0.00000</td>\n      <td>0.0</td>\n      <td>0.0</td>\n      <td>0.0</td>\n    </tr>\n  </tbody>\n</table>\n<p>10 rows × 22 columns</p>\n</div>"
          },
          "metadata": {}
        }
      ],
      "execution_count": null
    },
    {
      "cell_type": "code",
      "source": [
        "from sklearn.feature_extraction.text import TfidfVectorizer\n",
        "from sklearn.metrics.pairwise import cosine_similarity\n",
        "\n",
        "\n",
        "# Matriks kesamaan antar anime berdasarkan genre\n",
        "cosine_sim = cosine_similarity(tfidf_matrix, tfidf_matrix)\n",
        "\n",
        "cosine_sim\n"
      ],
      "metadata": {
        "colab": {
          "base_uri": "https://localhost:8080/"
        },
        "id": "TlyjMrs6hEU1",
        "outputId": "5c8259e4-1e9f-407d-b9f9-bfbe3fab485d",
        "trusted": true,
        "execution": {
          "iopub.status.busy": "2025-06-13T03:05:23.023061Z",
          "iopub.execute_input": "2025-06-13T03:05:23.023224Z",
          "iopub.status.idle": "2025-06-13T03:05:25.085915Z",
          "shell.execute_reply.started": "2025-06-13T03:05:23.023209Z",
          "shell.execute_reply": "2025-06-13T03:05:25.085261Z"
        }
      },
      "outputs": [
        {
          "execution_count": 191,
          "output_type": "execute_result",
          "data": {
            "text/plain": "array([[1.        , 0.28135195, 0.04845861, ..., 0.        , 0.        ,\n        0.        ],\n       [0.28135195, 1.        , 0.40907246, ..., 0.        , 0.        ,\n        0.        ],\n       [0.04845861, 0.40907246, 1.        , ..., 0.16764536, 0.        ,\n        0.        ],\n       ...,\n       [0.        , 0.        , 0.16764536, ..., 1.        , 0.        ,\n        0.58551766],\n       [0.        , 0.        , 0.        , ..., 0.        , 1.        ,\n        0.        ],\n       [0.        , 0.        , 0.        , ..., 0.58551766, 0.        ,\n        1.        ]])"
          },
          "metadata": {}
        }
      ],
      "execution_count": null
    },
    {
      "cell_type": "code",
      "source": [
        "# Membuat dataframe dari variabel cosine_sim dengan baris dan kolom berupa nama judul anime\n",
        "cosine_sim_df = pd.DataFrame(cosine_sim, index=anime_unique['name'], columns=anime_unique['name'])\n",
        "print('Shape:', cosine_sim_df.shape)\n",
        "\n",
        "# Melihat similarity matrix pada setiap judul anime\n",
        "cosine_sim_df.sample(5, axis=1).sample(10, axis=0)"
      ],
      "metadata": {
        "colab": {
          "base_uri": "https://localhost:8080/",
          "height": 412
        },
        "id": "ujwdhnQnk1FP",
        "outputId": "e38210d2-fa51-4957-f282-f6f5127a412a",
        "trusted": true,
        "execution": {
          "iopub.status.busy": "2025-06-13T03:05:25.086578Z",
          "iopub.execute_input": "2025-06-13T03:05:25.086823Z",
          "iopub.status.idle": "2025-06-13T03:05:25.100866Z",
          "shell.execute_reply.started": "2025-06-13T03:05:25.086801Z",
          "shell.execute_reply": "2025-06-13T03:05:25.100098Z"
        }
      },
      "outputs": [
        {
          "name": "stdout",
          "text": "Shape: (11162, 11162)\n",
          "output_type": "stream"
        },
        {
          "execution_count": 192,
          "output_type": "execute_result",
          "data": {
            "text/plain": "name                                     Kokoro Toshokan  \\\nname                                                       \nTaiyou no Kiba Dagram                           0.222309   \nGalaxy Angel 3                                  0.240905   \nNikuyoku Gangu Takuhainin                       0.000000   \nArashi no Yoru ni: Himitsu no Tomodachi         0.428473   \nKowaremono II                                   0.000000   \nGenji Monogatari                                0.294163   \nAoi Kokuhaku                                    0.000000   \nGirls und Panzer der Film: Arisu War!           0.000000   \nOdin: Koushi Hansen Starlight                   0.310286   \nRosario to Vampire Capu2                        0.080838   \n\nname                                     McDull and Chinese Culture  \\\nname                                                                  \nTaiyou no Kiba Dagram                                      0.000000   \nGalaxy Angel 3                                             0.270855   \nNikuyoku Gangu Takuhainin                                  0.000000   \nArashi no Yoru ni: Himitsu no Tomodachi                    0.000000   \nKowaremono II                                              0.000000   \nGenji Monogatari                                           0.593569   \nAoi Kokuhaku                                               0.000000   \nGirls und Panzer der Film: Arisu War!                      0.000000   \nOdin: Koushi Hansen Starlight                              0.000000   \nRosario to Vampire Capu2                                   0.090888   \n\nname                                     Baka to Test to Shoukanjuu: Matsuri - Sentakushi Ikou nomi  \\\nname                                                                                                  \nTaiyou no Kiba Dagram                                                             0.000000            \nGalaxy Angel 3                                                                    0.299037            \nNikuyoku Gangu Takuhainin                                                         0.000000            \nArashi no Yoru ni: Himitsu no Tomodachi                                           0.000000            \nKowaremono II                                                                     0.000000            \nGenji Monogatari                                                                  0.000000            \nAoi Kokuhaku                                                                      0.000000            \nGirls und Panzer der Film: Arisu War!                                             0.521170            \nOdin: Koushi Hansen Starlight                                                     0.000000            \nRosario to Vampire Capu2                                                          0.382084            \n\nname                                     STAR BEAT!: Hoshi no Kodou  \\\nname                                                                  \nTaiyou no Kiba Dagram                                           0.0   \nGalaxy Angel 3                                                  0.0   \nNikuyoku Gangu Takuhainin                                       0.0   \nArashi no Yoru ni: Himitsu no Tomodachi                         0.0   \nKowaremono II                                                   0.0   \nGenji Monogatari                                                0.0   \nAoi Kokuhaku                                                    0.0   \nGirls und Panzer der Film: Arisu War!                           0.0   \nOdin: Koushi Hansen Starlight                                   0.0   \nRosario to Vampire Capu2                                        0.0   \n\nname                                     Eikoku Ikka, Nihon wo Taberu  \nname                                                                   \nTaiyou no Kiba Dagram                                        0.000000  \nGalaxy Angel 3                                               0.297849  \nNikuyoku Gangu Takuhainin                                    0.000000  \nArashi no Yoru ni: Himitsu no Tomodachi                      0.000000  \nKowaremono II                                                0.000000  \nGenji Monogatari                                             0.000000  \nAoi Kokuhaku                                                 0.000000  \nGirls und Panzer der Film: Arisu War!                        0.000000  \nOdin: Koushi Hansen Starlight                                0.000000  \nRosario to Vampire Capu2                                     0.099946  ",
            "text/html": "<div>\n<style scoped>\n    .dataframe tbody tr th:only-of-type {\n        vertical-align: middle;\n    }\n\n    .dataframe tbody tr th {\n        vertical-align: top;\n    }\n\n    .dataframe thead th {\n        text-align: right;\n    }\n</style>\n<table border=\"1\" class=\"dataframe\">\n  <thead>\n    <tr style=\"text-align: right;\">\n      <th>name</th>\n      <th>Kokoro Toshokan</th>\n      <th>McDull and Chinese Culture</th>\n      <th>Baka to Test to Shoukanjuu: Matsuri - Sentakushi Ikou nomi</th>\n      <th>STAR BEAT!: Hoshi no Kodou</th>\n      <th>Eikoku Ikka, Nihon wo Taberu</th>\n    </tr>\n    <tr>\n      <th>name</th>\n      <th></th>\n      <th></th>\n      <th></th>\n      <th></th>\n      <th></th>\n    </tr>\n  </thead>\n  <tbody>\n    <tr>\n      <th>Taiyou no Kiba Dagram</th>\n      <td>0.222309</td>\n      <td>0.000000</td>\n      <td>0.000000</td>\n      <td>0.0</td>\n      <td>0.000000</td>\n    </tr>\n    <tr>\n      <th>Galaxy Angel 3</th>\n      <td>0.240905</td>\n      <td>0.270855</td>\n      <td>0.299037</td>\n      <td>0.0</td>\n      <td>0.297849</td>\n    </tr>\n    <tr>\n      <th>Nikuyoku Gangu Takuhainin</th>\n      <td>0.000000</td>\n      <td>0.000000</td>\n      <td>0.000000</td>\n      <td>0.0</td>\n      <td>0.000000</td>\n    </tr>\n    <tr>\n      <th>Arashi no Yoru ni: Himitsu no Tomodachi</th>\n      <td>0.428473</td>\n      <td>0.000000</td>\n      <td>0.000000</td>\n      <td>0.0</td>\n      <td>0.000000</td>\n    </tr>\n    <tr>\n      <th>Kowaremono II</th>\n      <td>0.000000</td>\n      <td>0.000000</td>\n      <td>0.000000</td>\n      <td>0.0</td>\n      <td>0.000000</td>\n    </tr>\n    <tr>\n      <th>Genji Monogatari</th>\n      <td>0.294163</td>\n      <td>0.593569</td>\n      <td>0.000000</td>\n      <td>0.0</td>\n      <td>0.000000</td>\n    </tr>\n    <tr>\n      <th>Aoi Kokuhaku</th>\n      <td>0.000000</td>\n      <td>0.000000</td>\n      <td>0.000000</td>\n      <td>0.0</td>\n      <td>0.000000</td>\n    </tr>\n    <tr>\n      <th>Girls und Panzer der Film: Arisu War!</th>\n      <td>0.000000</td>\n      <td>0.000000</td>\n      <td>0.521170</td>\n      <td>0.0</td>\n      <td>0.000000</td>\n    </tr>\n    <tr>\n      <th>Odin: Koushi Hansen Starlight</th>\n      <td>0.310286</td>\n      <td>0.000000</td>\n      <td>0.000000</td>\n      <td>0.0</td>\n      <td>0.000000</td>\n    </tr>\n    <tr>\n      <th>Rosario to Vampire Capu2</th>\n      <td>0.080838</td>\n      <td>0.090888</td>\n      <td>0.382084</td>\n      <td>0.0</td>\n      <td>0.099946</td>\n    </tr>\n  </tbody>\n</table>\n</div>"
          },
          "metadata": {}
        }
      ],
      "execution_count": null
    },
    {
      "cell_type": "code",
      "source": [
        "def Rekomendasi_anime(anime_name, top_n=10):\n",
        "    match = anime_unique[anime_unique['name'].str.lower() == anime_name.lower()]\n",
        "    if match.empty:\n",
        "        return f\"Anime '{anime_name}' tidak ditemukan.\"\n",
        "\n",
        "    idx = match.index[0]\n",
        "    pos = anime_unique.index.get_loc(idx)  # Mendapatkan posisi baris untuk cosine_sim\n",
        "\n",
        "    sim_scores = list(enumerate(cosine_sim[pos]))\n",
        "    sim_scores = sorted(sim_scores, key=lambda x: x[1], reverse=True)\n",
        "    sim_scores = sim_scores[1:top_n+1]\n",
        "    anime_indices = [i[0] for i in sim_scores]\n",
        "\n",
        "    recommended = anime_unique.iloc[anime_indices]\n",
        "\n",
        "    return pd.DataFrame({\n",
        "        'Anime name': recommended['name'].values,\n",
        "        'Rating': recommended['AverageRating'].values,\n",
        "        'Genre': recommended['genre'].values\n",
        "    })\n"
      ],
      "metadata": {
        "id": "0-MTyI4thF0r",
        "trusted": true,
        "execution": {
          "iopub.status.busy": "2025-06-13T03:05:25.101613Z",
          "iopub.execute_input": "2025-06-13T03:05:25.102284Z",
          "iopub.status.idle": "2025-06-13T03:05:25.108305Z",
          "shell.execute_reply.started": "2025-06-13T03:05:25.102264Z",
          "shell.execute_reply": "2025-06-13T03:05:25.107747Z"
        }
      },
      "outputs": [],
      "execution_count": null
    },
    {
      "cell_type": "code",
      "source": [
        "Rekomendasi_anime(\"Naruto\")"
      ],
      "metadata": {
        "colab": {
          "base_uri": "https://localhost:8080/",
          "height": 363
        },
        "id": "tKe3m5k5hHl9",
        "outputId": "e9a5a2cd-48b6-4a68-9c17-e77a515c4ba6",
        "trusted": true,
        "execution": {
          "iopub.status.busy": "2025-06-13T03:05:25.108914Z",
          "iopub.execute_input": "2025-06-13T03:05:25.109113Z",
          "iopub.status.idle": "2025-06-13T03:05:25.139299Z",
          "shell.execute_reply.started": "2025-06-13T03:05:25.109091Z",
          "shell.execute_reply": "2025-06-13T03:05:25.138782Z"
        }
      },
      "outputs": [
        {
          "execution_count": 194,
          "output_type": "execute_result",
          "data": {
            "text/plain": "                                          Anime name  Rating  \\\n0  Naruto: Shippuuden Movie 3 - Hi no Ishi wo Tsu...    7.50   \n1  Boruto: Naruto the Movie - Naruto ga Hokage ni...    7.68   \n2        Naruto: Shippuuden Movie 4 - The Lost Tower    7.53   \n3  Naruto Soyokazeden Movie: Naruto to Mashin to ...    7.11   \n4                           Boruto: Naruto the Movie    8.03   \n5                                        Naruto x UT    7.58   \n6               Naruto Shippuuden: Sunny Side Battle    7.26   \n7                            Kyutai Panic Adventure!    5.21   \n8  Naruto: Honoo no Chuunin Shiken! Naruto vs. Ko...    7.27   \n9                                     Rekka no Honoo    7.44   \n\n                                               Genre  \n0  Action, Comedy, Martial Arts, Shounen, Super P...  \n1  Action, Comedy, Martial Arts, Shounen, Super P...  \n2  Action, Comedy, Martial Arts, Shounen, Super P...  \n3  Action, Comedy, Martial Arts, Shounen, Super P...  \n4  Action, Comedy, Martial Arts, Shounen, Super P...  \n5  Action, Comedy, Martial Arts, Shounen, Super P...  \n6  Action, Comedy, Martial Arts, Shounen, Super P...  \n7         Action, Martial Arts, Shounen, Super Power  \n8  Action, Adventure, Martial Arts, Shounen, Supe...  \n9  Action, Adventure, Martial Arts, Shounen, Supe...  ",
            "text/html": "<div>\n<style scoped>\n    .dataframe tbody tr th:only-of-type {\n        vertical-align: middle;\n    }\n\n    .dataframe tbody tr th {\n        vertical-align: top;\n    }\n\n    .dataframe thead th {\n        text-align: right;\n    }\n</style>\n<table border=\"1\" class=\"dataframe\">\n  <thead>\n    <tr style=\"text-align: right;\">\n      <th></th>\n      <th>Anime name</th>\n      <th>Rating</th>\n      <th>Genre</th>\n    </tr>\n  </thead>\n  <tbody>\n    <tr>\n      <th>0</th>\n      <td>Naruto: Shippuuden Movie 3 - Hi no Ishi wo Tsu...</td>\n      <td>7.50</td>\n      <td>Action, Comedy, Martial Arts, Shounen, Super P...</td>\n    </tr>\n    <tr>\n      <th>1</th>\n      <td>Boruto: Naruto the Movie - Naruto ga Hokage ni...</td>\n      <td>7.68</td>\n      <td>Action, Comedy, Martial Arts, Shounen, Super P...</td>\n    </tr>\n    <tr>\n      <th>2</th>\n      <td>Naruto: Shippuuden Movie 4 - The Lost Tower</td>\n      <td>7.53</td>\n      <td>Action, Comedy, Martial Arts, Shounen, Super P...</td>\n    </tr>\n    <tr>\n      <th>3</th>\n      <td>Naruto Soyokazeden Movie: Naruto to Mashin to ...</td>\n      <td>7.11</td>\n      <td>Action, Comedy, Martial Arts, Shounen, Super P...</td>\n    </tr>\n    <tr>\n      <th>4</th>\n      <td>Boruto: Naruto the Movie</td>\n      <td>8.03</td>\n      <td>Action, Comedy, Martial Arts, Shounen, Super P...</td>\n    </tr>\n    <tr>\n      <th>5</th>\n      <td>Naruto x UT</td>\n      <td>7.58</td>\n      <td>Action, Comedy, Martial Arts, Shounen, Super P...</td>\n    </tr>\n    <tr>\n      <th>6</th>\n      <td>Naruto Shippuuden: Sunny Side Battle</td>\n      <td>7.26</td>\n      <td>Action, Comedy, Martial Arts, Shounen, Super P...</td>\n    </tr>\n    <tr>\n      <th>7</th>\n      <td>Kyutai Panic Adventure!</td>\n      <td>5.21</td>\n      <td>Action, Martial Arts, Shounen, Super Power</td>\n    </tr>\n    <tr>\n      <th>8</th>\n      <td>Naruto: Honoo no Chuunin Shiken! Naruto vs. Ko...</td>\n      <td>7.27</td>\n      <td>Action, Adventure, Martial Arts, Shounen, Supe...</td>\n    </tr>\n    <tr>\n      <th>9</th>\n      <td>Rekka no Honoo</td>\n      <td>7.44</td>\n      <td>Action, Adventure, Martial Arts, Shounen, Supe...</td>\n    </tr>\n  </tbody>\n</table>\n</div>"
          },
          "metadata": {}
        }
      ],
      "execution_count": null
    },
    {
      "cell_type": "markdown",
      "source": [
        "## Model Development dengan Collaborative Filtering"
      ],
      "metadata": {
        "id": "YdTHmCs9oM_n"
      }
    },
    {
      "cell_type": "code",
      "source": [
        "# Definisi model\n",
        "class RecommenderNet(Model):\n",
        "    def __init__(self, num_users, num_anime, embedding_size, **kwargs):\n",
        "        super(RecommenderNet, self).__init__(**kwargs)\n",
        "        self.user_embedding = layers.Embedding(\n",
        "            num_users,\n",
        "            embedding_size,\n",
        "            embeddings_initializer='he_normal',\n",
        "            embeddings_regularizer=regularizers.l2(1e-6)\n",
        "        )\n",
        "        self.user_bias = layers.Embedding(num_users, 1)\n",
        "        self.anime_embedding = layers.Embedding(\n",
        "            num_anime,\n",
        "            embedding_size,\n",
        "            embeddings_initializer='he_normal',\n",
        "            embeddings_regularizer=regularizers.l2(1e-6)\n",
        "        )\n",
        "        self.anime_bias = layers.Embedding(num_anime, 1)\n",
        "\n",
        "    def call(self, inputs):\n",
        "        user_vector = self.user_embedding(inputs[:, 0])\n",
        "        user_bias = self.user_bias(inputs[:, 0])\n",
        "        anime_vector = self.anime_embedding(inputs[:, 1])\n",
        "        anime_bias = self.anime_bias(inputs[:, 1])\n",
        "\n",
        "        dot_user_anime = tf.reduce_sum(user_vector * anime_vector, axis=1, keepdims=True)\n",
        "        x = dot_user_anime + user_bias + anime_bias\n",
        "        return tf.nn.sigmoid(x)\n"
      ],
      "metadata": {
        "id": "pfIkw4sZpdyE",
        "trusted": true,
        "execution": {
          "iopub.status.busy": "2025-06-13T03:05:25.139946Z",
          "iopub.execute_input": "2025-06-13T03:05:25.140155Z",
          "iopub.status.idle": "2025-06-13T03:05:25.14569Z",
          "shell.execute_reply.started": "2025-06-13T03:05:25.140134Z",
          "shell.execute_reply": "2025-06-13T03:05:25.145116Z"
        }
      },
      "outputs": [],
      "execution_count": null
    },
    {
      "cell_type": "code",
      "source": [
        "# Inisialisasi dan compile model\n",
        "model = RecommenderNet(num_users, num_anime, embedding_size=50)\n",
        "model.compile(\n",
        "    loss=tf.keras.losses.BinaryCrossentropy(),\n",
        "    optimizer=tf.keras.optimizers.Adam(learning_rate=0.001),\n",
        "    metrics=[tf.keras.metrics.RootMeanSquaredError()]\n",
        ")\n"
      ],
      "metadata": {
        "id": "-FFiswI7pgVJ",
        "trusted": true,
        "execution": {
          "iopub.status.busy": "2025-06-13T03:05:25.146539Z",
          "iopub.execute_input": "2025-06-13T03:05:25.146763Z",
          "iopub.status.idle": "2025-06-13T03:05:25.174052Z",
          "shell.execute_reply.started": "2025-06-13T03:05:25.146744Z",
          "shell.execute_reply": "2025-06-13T03:05:25.173384Z"
        }
      },
      "outputs": [],
      "execution_count": null
    },
    {
      "cell_type": "code",
      "source": [
        "# Training\n",
        "history = model.fit(\n",
        "    x=x_train,\n",
        "    y=y_train,\n",
        "    batch_size=128,\n",
        "    epochs=20,\n",
        "    validation_data=(x_val, y_val)\n",
        ")"
      ],
      "metadata": {
        "colab": {
          "base_uri": "https://localhost:8080/"
        },
        "id": "59w_cRp4piRH",
        "outputId": "4fe19b23-f73d-4108-909a-9cd8de7454ea",
        "trusted": true,
        "execution": {
          "iopub.status.busy": "2025-06-13T03:05:25.174859Z",
          "iopub.execute_input": "2025-06-13T03:05:25.175098Z",
          "iopub.status.idle": "2025-06-13T03:33:01.220255Z",
          "shell.execute_reply.started": "2025-06-13T03:05:25.175077Z",
          "shell.execute_reply": "2025-06-13T03:33:01.219672Z"
        }
      },
      "outputs": [
        {
          "name": "stdout",
          "text": "Epoch 1/20\n\u001b[1m32695/32695\u001b[0m \u001b[32m━━━━━━━━━━━━━━━━━━━━\u001b[0m\u001b[37m\u001b[0m \u001b[1m86s\u001b[0m 3ms/step - loss: 0.6420 - root_mean_squared_error: 0.3144 - val_loss: 0.6097 - val_root_mean_squared_error: 0.2872\nEpoch 2/20\n\u001b[1m32695/32695\u001b[0m \u001b[32m━━━━━━━━━━━━━━━━━━━━\u001b[0m\u001b[37m\u001b[0m \u001b[1m83s\u001b[0m 3ms/step - loss: 0.6038 - root_mean_squared_error: 0.2825 - val_loss: 0.6011 - val_root_mean_squared_error: 0.2810\nEpoch 3/20\n\u001b[1m32695/32695\u001b[0m \u001b[32m━━━━━━━━━━━━━━━━━━━━\u001b[0m\u001b[37m\u001b[0m \u001b[1m83s\u001b[0m 3ms/step - loss: 0.5935 - root_mean_squared_error: 0.2744 - val_loss: 0.5970 - val_root_mean_squared_error: 0.2775\nEpoch 4/20\n\u001b[1m32695/32695\u001b[0m \u001b[32m━━━━━━━━━━━━━━━━━━━━\u001b[0m\u001b[37m\u001b[0m \u001b[1m82s\u001b[0m 3ms/step - loss: 0.5874 - root_mean_squared_error: 0.2690 - val_loss: 0.5960 - val_root_mean_squared_error: 0.2759\nEpoch 5/20\n\u001b[1m32695/32695\u001b[0m \u001b[32m━━━━━━━━━━━━━━━━━━━━\u001b[0m\u001b[37m\u001b[0m \u001b[1m83s\u001b[0m 3ms/step - loss: 0.5849 - root_mean_squared_error: 0.2658 - val_loss: 0.5961 - val_root_mean_squared_error: 0.2751\nEpoch 6/20\n\u001b[1m32695/32695\u001b[0m \u001b[32m━━━━━━━━━━━━━━━━━━━━\u001b[0m\u001b[37m\u001b[0m \u001b[1m83s\u001b[0m 3ms/step - loss: 0.5832 - root_mean_squared_error: 0.2634 - val_loss: 0.5968 - val_root_mean_squared_error: 0.2748\nEpoch 7/20\n\u001b[1m32695/32695\u001b[0m \u001b[32m━━━━━━━━━━━━━━━━━━━━\u001b[0m\u001b[37m\u001b[0m \u001b[1m83s\u001b[0m 3ms/step - loss: 0.5821 - root_mean_squared_error: 0.2621 - val_loss: 0.5973 - val_root_mean_squared_error: 0.2745\nEpoch 8/20\n\u001b[1m32695/32695\u001b[0m \u001b[32m━━━━━━━━━━━━━━━━━━━━\u001b[0m\u001b[37m\u001b[0m \u001b[1m83s\u001b[0m 3ms/step - loss: 0.5818 - root_mean_squared_error: 0.2609 - val_loss: 0.5979 - val_root_mean_squared_error: 0.2745\nEpoch 9/20\n\u001b[1m32695/32695\u001b[0m \u001b[32m━━━━━━━━━━━━━━━━━━━━\u001b[0m\u001b[37m\u001b[0m \u001b[1m83s\u001b[0m 3ms/step - loss: 0.5815 - root_mean_squared_error: 0.2604 - val_loss: 0.5983 - val_root_mean_squared_error: 0.2744\nEpoch 10/20\n\u001b[1m32695/32695\u001b[0m \u001b[32m━━━━━━━━━━━━━━━━━━━━\u001b[0m\u001b[37m\u001b[0m \u001b[1m83s\u001b[0m 3ms/step - loss: 0.5812 - root_mean_squared_error: 0.2599 - val_loss: 0.5987 - val_root_mean_squared_error: 0.2744\nEpoch 11/20\n\u001b[1m32695/32695\u001b[0m \u001b[32m━━━━━━━━━━━━━━━━━━━━\u001b[0m\u001b[37m\u001b[0m \u001b[1m82s\u001b[0m 3ms/step - loss: 0.5810 - root_mean_squared_error: 0.2596 - val_loss: 0.5990 - val_root_mean_squared_error: 0.2744\nEpoch 12/20\n\u001b[1m32695/32695\u001b[0m \u001b[32m━━━━━━━━━━━━━━━━━━━━\u001b[0m\u001b[37m\u001b[0m \u001b[1m82s\u001b[0m 3ms/step - loss: 0.5813 - root_mean_squared_error: 0.2593 - val_loss: 0.5994 - val_root_mean_squared_error: 0.2745\nEpoch 13/20\n\u001b[1m32695/32695\u001b[0m \u001b[32m━━━━━━━━━━━━━━━━━━━━\u001b[0m\u001b[37m\u001b[0m \u001b[1m82s\u001b[0m 3ms/step - loss: 0.5808 - root_mean_squared_error: 0.2589 - val_loss: 0.5996 - val_root_mean_squared_error: 0.2745\nEpoch 14/20\n\u001b[1m32695/32695\u001b[0m \u001b[32m━━━━━━━━━━━━━━━━━━━━\u001b[0m\u001b[37m\u001b[0m \u001b[1m83s\u001b[0m 3ms/step - loss: 0.5809 - root_mean_squared_error: 0.2587 - val_loss: 0.5999 - val_root_mean_squared_error: 0.2746\nEpoch 15/20\n\u001b[1m32695/32695\u001b[0m \u001b[32m━━━━━━━━━━━━━━━━━━━━\u001b[0m\u001b[37m\u001b[0m \u001b[1m82s\u001b[0m 3ms/step - loss: 0.5810 - root_mean_squared_error: 0.2590 - val_loss: 0.6001 - val_root_mean_squared_error: 0.2746\nEpoch 16/20\n\u001b[1m32695/32695\u001b[0m \u001b[32m━━━━━━━━━━━━━━━━━━━━\u001b[0m\u001b[37m\u001b[0m \u001b[1m82s\u001b[0m 3ms/step - loss: 0.5809 - root_mean_squared_error: 0.2587 - val_loss: 0.6004 - val_root_mean_squared_error: 0.2747\nEpoch 17/20\n\u001b[1m32695/32695\u001b[0m \u001b[32m━━━━━━━━━━━━━━━━━━━━\u001b[0m\u001b[37m\u001b[0m \u001b[1m82s\u001b[0m 3ms/step - loss: 0.5806 - root_mean_squared_error: 0.2584 - val_loss: 0.6005 - val_root_mean_squared_error: 0.2747\nEpoch 18/20\n\u001b[1m32695/32695\u001b[0m \u001b[32m━━━━━━━━━━━━━━━━━━━━\u001b[0m\u001b[37m\u001b[0m \u001b[1m83s\u001b[0m 3ms/step - loss: 0.5812 - root_mean_squared_error: 0.2585 - val_loss: 0.6007 - val_root_mean_squared_error: 0.2747\nEpoch 19/20\n\u001b[1m32695/32695\u001b[0m \u001b[32m━━━━━━━━━━━━━━━━━━━━\u001b[0m\u001b[37m\u001b[0m \u001b[1m82s\u001b[0m 3ms/step - loss: 0.5808 - root_mean_squared_error: 0.2583 - val_loss: 0.6009 - val_root_mean_squared_error: 0.2748\nEpoch 20/20\n\u001b[1m32695/32695\u001b[0m \u001b[32m━━━━━━━━━━━━━━━━━━━━\u001b[0m\u001b[37m\u001b[0m \u001b[1m82s\u001b[0m 3ms/step - loss: 0.5809 - root_mean_squared_error: 0.2583 - val_loss: 0.6011 - val_root_mean_squared_error: 0.2748\n",
          "output_type": "stream"
        }
      ],
      "execution_count": null
    },
    {
      "cell_type": "code",
      "source": [
        "# Rekomendasi anime untuk user tertentu\n",
        "def recommend_anime_for_user(user_id, anime_rating, top_n=10):\n",
        "    if user_id not in user_to_user_encoded:\n",
        "        print(f\"User {user_id} tidak ditemukan.\")\n",
        "        return\n",
        "\n",
        "    user_enc = user_to_user_encoded[user_id]\n",
        "\n",
        "    anime_watched = anime_rating[anime_rating['user_id'] == user_id]['anime_id'].values\n",
        "    anime_not_watched = list(set(anime_ids) - set(anime_watched))\n",
        "    anime_not_watched_encoded = [anime_to_anime_encoded[x] for x in anime_not_watched]\n",
        "\n",
        "    user_array = np.array([user_enc] * len(anime_not_watched_encoded))\n",
        "    anime_array = np.array(anime_not_watched_encoded)\n",
        "    input_array = np.vstack((user_array, anime_array)).T\n",
        "\n",
        "    pred_ratings = model.predict(input_array).flatten()\n",
        "    top_indices = pred_ratings.argsort()[-top_n:][::-1]\n",
        "    top_anime_recommended = [anime_encoded_to_anime[i] for i in anime_array[top_indices]]\n",
        "\n",
        "    print(f\"Rekomendasi anime untuk user {user_id}:\")\n",
        "    for anime_id in top_anime_recommended:\n",
        "        anime_name = anime_rating[anime_rating['anime_id'] == anime_id]['name'].iloc[0]\n",
        "        print(f\"{anime_name} (ID: {anime_id})\")\n",
        "\n",
        "# Contoh pemakaian\n",
        "recommend_anime_for_user(user_id=12345, anime_rating=filt_anime_rating, top_n=10)"
      ],
      "metadata": {
        "id": "tL3-kyycppjR",
        "trusted": true,
        "execution": {
          "iopub.status.busy": "2025-06-13T03:37:01.970413Z",
          "iopub.execute_input": "2025-06-13T03:37:01.971219Z",
          "iopub.status.idle": "2025-06-13T03:37:02.936284Z",
          "shell.execute_reply.started": "2025-06-13T03:37:01.97119Z",
          "shell.execute_reply": "2025-06-13T03:37:02.935699Z"
        },
        "outputId": "7a531942-dd66-478a-fd6d-89c74b3f2b0b"
      },
      "outputs": [
        {
          "name": "stdout",
          "text": "\u001b[1m276/276\u001b[0m \u001b[32m━━━━━━━━━━━━━━━━━━━━\u001b[0m\u001b[37m\u001b[0m \u001b[1m1s\u001b[0m 2ms/step\nRekomendasi anime untuk user 12345:\nGalo Sengen (ID: 20929)\nHametsu no Mars (ID: 413)\nGinga Eiyuu Densetsu (ID: 820)\nTenkuu Danzai Skelter+Heaven (ID: 3287)\nGintama° (ID: 28977)\nCipher (ID: 11867)\nKimi no Na wa. (ID: 32281)\nGintama&#039; (ID: 9969)\nKoe no Katachi (ID: 28851)\nSteins;Gate (ID: 9253)\n",
          "output_type": "stream"
        }
      ],
      "execution_count": null
    },
    {
      "cell_type": "markdown",
      "source": [
        "# Evaluasi"
      ],
      "metadata": {
        "id": "1NG1ngyMoVUn"
      }
    },
    {
      "cell_type": "markdown",
      "source": [
        "## Evaluasi Model CBF"
      ],
      "metadata": {
        "id": "NVWdOahq6waQ"
      }
    },
    {
      "cell_type": "code",
      "source": [
        "def genre_precision_at_k(query_anime_name, k=10):\n",
        "    # Ambil genre dari anime yang dijadikan query\n",
        "    query_row = anime_unique[anime_unique['name'].str.lower() == query_anime_name.lower()]\n",
        "    if query_row.empty:\n",
        "        return None  # anime tidak ditemukan\n",
        "    query_genres = set(query_row['genre'].values[0].split(', '))\n",
        "\n",
        "    # Ambil rekomendasi berdasarkan genre\n",
        "    recommended_df = Rekomendasi_anime(query_anime_name, top_n=k)\n",
        "    if isinstance(recommended_df, str):\n",
        "        return None  # handle error string return\n",
        "\n",
        "    matched = 0\n",
        "    for genre_str in recommended_df['Genre']:\n",
        "        recommended_genres = set(genre_str.split(', '))\n",
        "        if query_genres & recommended_genres:  # jika ada overlap genre\n",
        "            matched += 1\n",
        "\n",
        "    return matched / k  # precision@k genre\n"
      ],
      "metadata": {
        "trusted": true,
        "execution": {
          "iopub.status.busy": "2025-06-13T03:37:10.772796Z",
          "iopub.execute_input": "2025-06-13T03:37:10.773358Z",
          "iopub.status.idle": "2025-06-13T03:37:10.778087Z",
          "shell.execute_reply.started": "2025-06-13T03:37:10.773335Z",
          "shell.execute_reply": "2025-06-13T03:37:10.777432Z"
        },
        "id": "U3jvwZr2ZJTY"
      },
      "outputs": [],
      "execution_count": null
    },
    {
      "cell_type": "code",
      "source": [
        "def precision_recall_f1_at_k(user_id, k=10):\n",
        "    # Ambil anime yang pernah ditonton user\n",
        "    user_data = anime_rating[anime_rating['user_id'] == user_id]\n",
        "    relevant_anime = user_data[user_data['rating_user'] >= 7]['anime_id'].values\n",
        "    relevant_set = set(relevant_anime)\n",
        "\n",
        "    if len(relevant_set) == 0:\n",
        "        return None, None, None  # Tidak bisa evaluasi user tanpa data relevan\n",
        "\n",
        "    # Pilih satu anime dari user tersebut sebagai \"query\"\n",
        "    query_anime_id = relevant_anime[0]\n",
        "    query_anime_name = anime_unique[anime_unique['anime_id'] == query_anime_id]['name'].values[0]\n",
        "\n",
        "    # Rekomendasi dari CBF\n",
        "    recommended_df = Rekomendasi_anime(query_anime_name, top_n=k)\n",
        "    recommended_ids = anime_unique[anime_unique['name'].isin(recommended_df['Anime name'])]['anime_id'].values\n",
        "    recommended_set = set(recommended_ids)\n",
        "\n",
        "    # Hitung Precision@K, Recall@K, F1@K\n",
        "    true_positive = len(recommended_set & relevant_set)\n",
        "    precision = true_positive / k\n",
        "    recall = true_positive / len(relevant_set)\n",
        "    f1 = 2 * precision * recall / (precision + recall) if (precision + recall) > 0 else 0.0\n",
        "\n",
        "    return precision, recall, f1\n"
      ],
      "metadata": {
        "id": "aw7Mhuc36ZO4",
        "trusted": true,
        "execution": {
          "iopub.status.busy": "2025-06-13T03:37:15.895149Z",
          "iopub.execute_input": "2025-06-13T03:37:15.895859Z",
          "iopub.status.idle": "2025-06-13T03:37:15.901483Z",
          "shell.execute_reply.started": "2025-06-13T03:37:15.895837Z",
          "shell.execute_reply": "2025-06-13T03:37:15.900826Z"
        }
      },
      "outputs": [],
      "execution_count": null
    },
    {
      "cell_type": "code",
      "source": [
        "sample_titles = anime_unique['name'].sample(20, random_state=42).tolist()\n",
        "\n",
        "genre_precisions = []\n",
        "\n",
        "for title in sample_titles:\n",
        "    precision = genre_precision_at_k(title, k=10)\n",
        "    if precision is not None:\n",
        "        genre_precisions.append(precision)\n",
        "\n",
        "print(f\"Average Genre Precision@K: {np.mean(genre_precisions):.4f}\")\n"
      ],
      "metadata": {
        "trusted": true,
        "execution": {
          "iopub.status.busy": "2025-06-13T03:37:20.203699Z",
          "iopub.execute_input": "2025-06-13T03:37:20.203965Z",
          "iopub.status.idle": "2025-06-13T03:37:20.421386Z",
          "shell.execute_reply.started": "2025-06-13T03:37:20.203948Z",
          "shell.execute_reply": "2025-06-13T03:37:20.420612Z"
        },
        "id": "P-xJ7iLwZJTZ",
        "outputId": "976bce0c-5741-453d-d3f5-afc0c5512e6e"
      },
      "outputs": [
        {
          "name": "stdout",
          "text": "Average Genre Precision@K: 1.0000\n",
          "output_type": "stream"
        }
      ],
      "execution_count": null
    },
    {
      "cell_type": "code",
      "source": [
        "user_ids_sample = anime_rating['user_id'].drop_duplicates().sample(100, random_state=42)\n",
        "\n",
        "precision_list = []\n",
        "recall_list = []\n",
        "f1_list = []\n",
        "\n",
        "for user_id in user_ids_sample:\n",
        "    precision, recall, f1 = precision_recall_f1_at_k(user_id, k=10)\n",
        "    if precision is not None:\n",
        "        precision_list.append(precision)\n",
        "        recall_list.append(recall)\n",
        "        f1_list.append(f1)\n",
        "\n",
        "# Rata-rata hasil evaluasi\n",
        "print(f\"Average Precision@K: {np.mean(precision_list):.4f}\")\n",
        "print(f\"Average Recall@K: {np.mean(recall_list):.4f}\")\n",
        "print(f\"Average F1@K: {np.mean(f1_list):.4f}\")\n"
      ],
      "metadata": {
        "id": "G9IFGVZn6exN",
        "trusted": true,
        "execution": {
          "iopub.status.busy": "2025-06-13T03:37:23.015093Z",
          "iopub.execute_input": "2025-06-13T03:37:23.015817Z",
          "iopub.status.idle": "2025-06-13T03:37:24.692034Z",
          "shell.execute_reply.started": "2025-06-13T03:37:23.015766Z",
          "shell.execute_reply": "2025-06-13T03:37:24.691255Z"
        },
        "outputId": "e3666739-e531-4948-a6ad-73ce301fddfa"
      },
      "outputs": [
        {
          "name": "stdout",
          "text": "Average Precision@K: 0.0479\nAverage Recall@K: 0.0341\nAverage F1@K: 0.0244\n",
          "output_type": "stream"
        }
      ],
      "execution_count": null
    },
    {
      "cell_type": "markdown",
      "source": [
        "Sistem rekomendasi menunjukkan kesesuaian genre yang sangat baik (Precision genre = 1.0), yang berarti sistem berhasil merekomendasikan anime-anime dengan genre yang mirip. Namun, tingkat relevansi berdasarkan rating pengguna masih rendah (Precision@10 < 0.05), mengindikasikan bahwa meskipun genre-nya cocok, belum tentu rekomendasinya dianggap relevan atau menarik oleh pengguna. Ini membuka peluang untuk perbaikan lebih lanjut, misalnya menggabungkan CBF dengan data interaksi pengguna (hybrid model).\n",
        "\n"
      ],
      "metadata": {
        "id": "-lTgmbKZZJTZ"
      }
    },
    {
      "cell_type": "markdown",
      "source": [
        "## Evaluasi Model CF"
      ],
      "metadata": {
        "id": "HJBZLUkd6Y8f"
      }
    },
    {
      "cell_type": "code",
      "source": [
        "# Visualisasi\n",
        "plt.plot(history.history['root_mean_squared_error'], label='train')\n",
        "plt.plot(history.history['val_root_mean_squared_error'], label='val')\n",
        "plt.xlabel('Epoch')\n",
        "plt.ylabel('RMSE')\n",
        "plt.legend()\n",
        "plt.show()\n"
      ],
      "metadata": {
        "id": "w9X1GF8Bpier",
        "trusted": true,
        "execution": {
          "iopub.status.busy": "2025-06-13T03:37:47.178411Z",
          "iopub.execute_input": "2025-06-13T03:37:47.179111Z",
          "iopub.status.idle": "2025-06-13T03:37:47.344133Z",
          "shell.execute_reply.started": "2025-06-13T03:37:47.179089Z",
          "shell.execute_reply": "2025-06-13T03:37:47.343391Z"
        },
        "outputId": "12530a5f-ae04-4bca-c3a9-1b7a4cfdbb46"
      },
      "outputs": [
        {
          "output_type": "display_data",
          "data": {
            "text/plain": "<Figure size 640x480 with 1 Axes>",
            "image/png": "[encoded data removed]"
          },
          "metadata": {}
        }
      ],
      "execution_count": null
    },
    {
      "cell_type": "code",
      "source": [
        "from sklearn.metrics import mean_squared_error, mean_absolute_error\n",
        "import numpy as np\n",
        "\n",
        "# Prediksi rating pada data validasi\n",
        "y_pred = model.predict(x_val).flatten()\n",
        "\n",
        "# Hitung RMSE dan MAE\n",
        "rmse = np.sqrt(mean_squared_error(y_val, y_pred))\n",
        "mae = mean_absolute_error(y_val, y_pred)\n",
        "\n",
        "print(f\"RMSE pada data validasi: {rmse:.4f}\")\n",
        "print(f\"MAE pada data validasi: {mae:.4f}\")\n"
      ],
      "metadata": {
        "id": "ZIoETEJ29uKR",
        "trusted": true,
        "execution": {
          "iopub.status.busy": "2025-06-13T03:37:50.581404Z",
          "iopub.execute_input": "2025-06-13T03:37:50.582093Z",
          "iopub.status.idle": "2025-06-13T03:38:37.606414Z",
          "shell.execute_reply.started": "2025-06-13T03:37:50.582073Z",
          "shell.execute_reply": "2025-06-13T03:38:37.605642Z"
        },
        "outputId": "d386636f-9145-43c2-c432-64b232eaac32"
      },
      "outputs": [
        {
          "name": "stdout",
          "text": "\u001b[1m32695/32695\u001b[0m \u001b[32m━━━━━━━━━━━━━━━━━━━━\u001b[0m\u001b[37m\u001b[0m \u001b[1m35s\u001b[0m 1ms/step\nRMSE pada data validasi: 0.2748\nMAE pada data validasi: 0.2193\n",
          "output_type": "stream"
        }
      ],
      "execution_count": null
    },
    {
      "cell_type": "markdown",
      "source": [
        "Nilai RMSE dan MAE yang relatif kecil ini menunjukkan model mampu memprediksi rating dengan tingkat akurasi yang baik. Model dapat memahami preferensi pengguna dan memberikan rekomendasi anime yang sesuai dengan minat mereka."
      ],
      "metadata": {
        "id": "yMWqAhSsEaY-"
      }
    }
  ]
}